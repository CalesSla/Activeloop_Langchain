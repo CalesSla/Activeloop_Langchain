{
 "cells": [
  {
   "cell_type": "code",
   "execution_count": 1,
   "metadata": {},
   "outputs": [
    {
     "name": "stderr",
     "output_type": "stream",
     "text": [
      "514266it [15:55, 538.00it/s] \n"
     ]
    }
   ],
   "source": [
    "import requests\n",
    "from pathlib import Path\n",
    "from tqdm import tqdm\n",
    "\n",
    "local_path = \"./models/gpt4all-lora-quantized-ggml.bin\"\n",
    "\n",
    "Path(local_path).parent.mkdir(parents=True, exist_ok=True)\n",
    "\n",
    "url = 'https://the-eye.eu/public/AI/models/nomic-ai/gpt4all/gpt4all-lora-quantized-ggml.bin'\n",
    "\n",
    "response = requests.get(url, stream=True)\n",
    "\n",
    "with open(local_path, 'wb') as f:\n",
    "    for chunk in tqdm(response.iter_content(chunk_size=8192)):\n",
    "        if chunk:\n",
    "            f.write(chunk)"
   ]
  },
  {
   "cell_type": "code",
   "execution_count": 5,
   "metadata": {},
   "outputs": [
    {
     "name": "stdout",
     "output_type": "stream",
     "text": [
      " Question: What happens when it rains somewhere?\n",
      "\n",
      "Answer: Let's think step by step. When rain falls, firstly the clouds will get heavy and thunderstorm may occur in areas where there is high humidity or heat waves. The accumulation of water vapor into large cumulonimbus cloud systems causes torrential rainfall that floods rivers and creeks as well as creating a dangerous environment for people, animals and property near the storms' locations. Rainfall also forms lakes on top of mountains due to their high altitude or location in regions with heavy precipitation rates like hurricanes, typhoons etcetera that creates water bodies in landscapes which are otherwise dry desert areas as well creating a beautiful and peaceful scenery for people enjoying the views."
     ]
    },
    {
     "data": {
      "text/plain": [
       "\" Question: What happens when it rains somewhere?\\n\\nAnswer: Let's think step by step. When rain falls, firstly the clouds will get heavy and thunderstorm may occur in areas where there is high humidity or heat waves. The accumulation of water vapor into large cumulonimbus cloud systems causes torrential rainfall that floods rivers and creeks as well as creating a dangerous environment for people, animals and property near the storms' locations. Rainfall also forms lakes on top of mountains due to their high altitude or location in regions with heavy precipitation rates like hurricanes, typhoons etcetera that creates water bodies in landscapes which are otherwise dry desert areas as well creating a beautiful and peaceful scenery for people enjoying the views.\""
      ]
     },
     "execution_count": 5,
     "metadata": {},
     "output_type": "execute_result"
    }
   ],
   "source": [
    "from langchain.llms import GPT4All\n",
    "from langchain import PromptTemplate, LLMChain\n",
    "from langchain.callbacks.base import CallbackManager\n",
    "from langchain.callbacks.streaming_stdout import StreamingStdOutCallbackHandler\n",
    "\n",
    "template = \"\"\"Question: {question}\n",
    "\n",
    "Answer: Let's think step by step.\"\"\"\n",
    "\n",
    "prompt = PromptTemplate(template=template, input_variables=['question'])\n",
    "\n",
    "callback_manager = CallbackManager([StreamingStdOutCallbackHandler()])\n",
    "llm = GPT4All(model=\"C:\\\\Users\\\\veace\\\\Desktop\\\\Activeloop_Langchain\\\\models\\\\ggml-model-q4_0.bin\",\n",
    "              callback_manager=callback_manager,\n",
    "              verbose=True,\n",
    "              )\n",
    "\n",
    "llm_chain = LLMChain(prompt=prompt, llm=llm)\n",
    "\n",
    "question = \"What happens when it rains somewhere?\"\n",
    "llm_chain.run(question)"
   ]
  },
  {
   "cell_type": "code",
   "execution_count": 7,
   "metadata": {},
   "outputs": [
    {
     "name": "stdout",
     "output_type": "stream",
     "text": [
      " Question: What happens when it rains somewhere?\n",
      "\n",
      "Answer: Let's anser in one sentence. When there is rain, the amount of precipitation that occurs depends on a variety factors such as temperature and humidity. Precipitation can occur naturally through various processes including condensation or evaporation depending upon how much heat energy has been added to air masses by means like convection currents etc.."
     ]
    },
    {
     "data": {
      "text/plain": [
       "\" Question: What happens when it rains somewhere?\\n\\nAnswer: Let's anser in one sentence. When there is rain, the amount of precipitation that occurs depends on a variety factors such as temperature and humidity. Precipitation can occur naturally through various processes including condensation or evaporation depending upon how much heat energy has been added to air masses by means like convection currents etc..\""
      ]
     },
     "execution_count": 7,
     "metadata": {},
     "output_type": "execute_result"
    }
   ],
   "source": [
    "template = \"\"\"Question: {question}\n",
    "\n",
    "Answer: Let's anser in one sentence.\"\"\"\n",
    "\n",
    "prompt = PromptTemplate(template=template, input_variables=['question'])\n",
    "\n",
    "callback_manager = CallbackManager([StreamingStdOutCallbackHandler()])\n",
    "llm = GPT4All(model=\"C:\\\\Users\\\\veace\\\\Desktop\\\\Activeloop_Langchain\\\\models\\\\ggml-model-q4_0.bin\",\n",
    "              callback_manager=callback_manager,\n",
    "              verbose=True,\n",
    "              )\n",
    "\n",
    "llm_chain = LLMChain(prompt=prompt, llm=llm)\n",
    "\n",
    "question = \"What happens when it rains somewhere?\"\n",
    "llm_chain.run(question)"
   ]
  },
  {
   "cell_type": "code",
   "execution_count": null,
   "metadata": {},
   "outputs": [],
   "source": []
  }
 ],
 "metadata": {
  "kernelspec": {
   "display_name": "Python 3",
   "language": "python",
   "name": "python3"
  },
  "language_info": {
   "codemirror_mode": {
    "name": "ipython",
    "version": 3
   },
   "file_extension": ".py",
   "mimetype": "text/x-python",
   "name": "python",
   "nbconvert_exporter": "python",
   "pygments_lexer": "ipython3",
   "version": "3.11.6"
  }
 },
 "nbformat": 4,
 "nbformat_minor": 2
}
