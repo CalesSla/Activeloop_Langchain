{
 "cells": [
  {
   "cell_type": "code",
   "execution_count": 9,
   "metadata": {},
   "outputs": [
    {
     "name": "stderr",
     "output_type": "stream",
     "text": [
      "Created a chunk of size 1226, which is longer than the specified 1000\n"
     ]
    },
    {
     "name": "stdout",
     "output_type": "stream",
     "text": [
      "Your Deep Lake dataset has been successfully created!\n",
      "The dataset is private so make sure you are logged in!\n"
     ]
    },
    {
     "name": "stderr",
     "output_type": "stream",
     "text": [
      "/"
     ]
    },
    {
     "name": "stdout",
     "output_type": "stream",
     "text": [
      "Dataset(path='hub://veaceslavcalestru/langchain_course_customer_support', tensors=['embedding', 'id', 'metadata', 'text'])\n",
      "\n",
      "  tensor      htype       shape      dtype  compression\n",
      "  -------    -------     -------    -------  ------- \n",
      " embedding  embedding  (130, 1536)  float32   None   \n",
      "    id        text      (130, 1)      str     None   \n",
      " metadata     json      (130, 1)      str     None   \n",
      "   text       text      (130, 1)      str     None   \n"
     ]
    },
    {
     "name": "stderr",
     "output_type": "stream",
     "text": [
      " \r"
     ]
    },
    {
     "data": {
      "text/plain": [
       "['64154825-6eab-11ee-b60b-cc4740c98b6b',\n",
       " '64154826-6eab-11ee-98a7-cc4740c98b6b',\n",
       " '64154827-6eab-11ee-b082-cc4740c98b6b',\n",
       " '64154828-6eab-11ee-b8f9-cc4740c98b6b',\n",
       " '64154829-6eab-11ee-9aea-cc4740c98b6b',\n",
       " '6415482a-6eab-11ee-8297-cc4740c98b6b',\n",
       " '6415482b-6eab-11ee-9092-cc4740c98b6b',\n",
       " '6415482c-6eab-11ee-bdca-cc4740c98b6b',\n",
       " '6415482d-6eab-11ee-a0b8-cc4740c98b6b',\n",
       " '6415482e-6eab-11ee-9f19-cc4740c98b6b',\n",
       " '6415482f-6eab-11ee-99ea-cc4740c98b6b',\n",
       " '64154830-6eab-11ee-bac4-cc4740c98b6b',\n",
       " '64154831-6eab-11ee-b229-cc4740c98b6b',\n",
       " '64154832-6eab-11ee-b51c-cc4740c98b6b',\n",
       " '64154833-6eab-11ee-9369-cc4740c98b6b',\n",
       " '64154834-6eab-11ee-bdf0-cc4740c98b6b',\n",
       " '64154835-6eab-11ee-9e80-cc4740c98b6b',\n",
       " '64154836-6eab-11ee-96ea-cc4740c98b6b',\n",
       " '64154837-6eab-11ee-a556-cc4740c98b6b',\n",
       " '64154838-6eab-11ee-b910-cc4740c98b6b',\n",
       " '64154839-6eab-11ee-ba1e-cc4740c98b6b',\n",
       " '6415483a-6eab-11ee-8dfa-cc4740c98b6b',\n",
       " '6415483b-6eab-11ee-a04c-cc4740c98b6b',\n",
       " '6415483c-6eab-11ee-88e9-cc4740c98b6b',\n",
       " '6415483d-6eab-11ee-9209-cc4740c98b6b',\n",
       " '6415483e-6eab-11ee-88f1-cc4740c98b6b',\n",
       " '6415483f-6eab-11ee-b05f-cc4740c98b6b',\n",
       " '64154840-6eab-11ee-8611-cc4740c98b6b',\n",
       " '64154841-6eab-11ee-a793-cc4740c98b6b',\n",
       " '64154842-6eab-11ee-b329-cc4740c98b6b',\n",
       " '64154843-6eab-11ee-9008-cc4740c98b6b',\n",
       " '64154844-6eab-11ee-bf2f-cc4740c98b6b',\n",
       " '64154845-6eab-11ee-ba39-cc4740c98b6b',\n",
       " '64154846-6eab-11ee-a215-cc4740c98b6b',\n",
       " '64154847-6eab-11ee-bee5-cc4740c98b6b',\n",
       " '64154848-6eab-11ee-ad21-cc4740c98b6b',\n",
       " '64154849-6eab-11ee-b3da-cc4740c98b6b',\n",
       " '6415484a-6eab-11ee-a685-cc4740c98b6b',\n",
       " '6415484b-6eab-11ee-b9bd-cc4740c98b6b',\n",
       " '6415484c-6eab-11ee-8967-cc4740c98b6b',\n",
       " '6415484d-6eab-11ee-93d9-cc4740c98b6b',\n",
       " '6415484e-6eab-11ee-8652-cc4740c98b6b',\n",
       " '6415484f-6eab-11ee-aeb5-cc4740c98b6b',\n",
       " '64154850-6eab-11ee-84b8-cc4740c98b6b',\n",
       " '64154851-6eab-11ee-b986-cc4740c98b6b',\n",
       " '64154852-6eab-11ee-b66e-cc4740c98b6b',\n",
       " '64154853-6eab-11ee-abc6-cc4740c98b6b',\n",
       " '64154854-6eab-11ee-9521-cc4740c98b6b',\n",
       " '64154855-6eab-11ee-9e37-cc4740c98b6b',\n",
       " '64154856-6eab-11ee-a3d3-cc4740c98b6b',\n",
       " '64154857-6eab-11ee-8671-cc4740c98b6b',\n",
       " '64154858-6eab-11ee-96a4-cc4740c98b6b',\n",
       " '64154859-6eab-11ee-9bc9-cc4740c98b6b',\n",
       " '6415485a-6eab-11ee-943c-cc4740c98b6b',\n",
       " '6415485b-6eab-11ee-a718-cc4740c98b6b',\n",
       " '6415485c-6eab-11ee-a8fc-cc4740c98b6b',\n",
       " '6415485d-6eab-11ee-ba6e-cc4740c98b6b',\n",
       " '6415485e-6eab-11ee-8d16-cc4740c98b6b',\n",
       " '6415485f-6eab-11ee-bddc-cc4740c98b6b',\n",
       " '64154860-6eab-11ee-a35c-cc4740c98b6b',\n",
       " '64154861-6eab-11ee-9e87-cc4740c98b6b',\n",
       " '64154862-6eab-11ee-9c55-cc4740c98b6b',\n",
       " '64154863-6eab-11ee-b761-cc4740c98b6b',\n",
       " '64154864-6eab-11ee-a15d-cc4740c98b6b',\n",
       " '64154865-6eab-11ee-90ab-cc4740c98b6b',\n",
       " '64154866-6eab-11ee-83fc-cc4740c98b6b',\n",
       " '64154867-6eab-11ee-b385-cc4740c98b6b',\n",
       " '64154868-6eab-11ee-bac8-cc4740c98b6b',\n",
       " '64154869-6eab-11ee-a31d-cc4740c98b6b',\n",
       " '6415486a-6eab-11ee-ba9f-cc4740c98b6b',\n",
       " '6415486b-6eab-11ee-80e6-cc4740c98b6b',\n",
       " '6415486c-6eab-11ee-85f8-cc4740c98b6b',\n",
       " '6415486d-6eab-11ee-ae0f-cc4740c98b6b',\n",
       " '6415486e-6eab-11ee-b5c4-cc4740c98b6b',\n",
       " '6415486f-6eab-11ee-9986-cc4740c98b6b',\n",
       " '64154870-6eab-11ee-ad74-cc4740c98b6b',\n",
       " '64154871-6eab-11ee-b4ca-cc4740c98b6b',\n",
       " '64154872-6eab-11ee-b23e-cc4740c98b6b',\n",
       " '64154873-6eab-11ee-aac3-cc4740c98b6b',\n",
       " '64154874-6eab-11ee-a804-cc4740c98b6b',\n",
       " '64154875-6eab-11ee-8012-cc4740c98b6b',\n",
       " '64154876-6eab-11ee-a729-cc4740c98b6b',\n",
       " '64154877-6eab-11ee-9f96-cc4740c98b6b',\n",
       " '64154878-6eab-11ee-b4fe-cc4740c98b6b',\n",
       " '64154879-6eab-11ee-b786-cc4740c98b6b',\n",
       " '6415487a-6eab-11ee-9552-cc4740c98b6b',\n",
       " '6415487b-6eab-11ee-8f9c-cc4740c98b6b',\n",
       " '6415487c-6eab-11ee-aebc-cc4740c98b6b',\n",
       " '6415487d-6eab-11ee-94d0-cc4740c98b6b',\n",
       " '6415487e-6eab-11ee-ad08-cc4740c98b6b',\n",
       " '6415487f-6eab-11ee-b7b5-cc4740c98b6b',\n",
       " '64154880-6eab-11ee-8407-cc4740c98b6b',\n",
       " '64154881-6eab-11ee-8c3a-cc4740c98b6b',\n",
       " '64154882-6eab-11ee-bab0-cc4740c98b6b',\n",
       " '64154883-6eab-11ee-a452-cc4740c98b6b',\n",
       " '64154884-6eab-11ee-8e30-cc4740c98b6b',\n",
       " '64154885-6eab-11ee-8f45-cc4740c98b6b',\n",
       " '64154886-6eab-11ee-b36a-cc4740c98b6b',\n",
       " '64154887-6eab-11ee-bdec-cc4740c98b6b',\n",
       " '64154888-6eab-11ee-891e-cc4740c98b6b',\n",
       " '64154889-6eab-11ee-b367-cc4740c98b6b',\n",
       " '6415488a-6eab-11ee-a2c0-cc4740c98b6b',\n",
       " '6415488b-6eab-11ee-9cab-cc4740c98b6b',\n",
       " '6415488c-6eab-11ee-85d6-cc4740c98b6b',\n",
       " '6415488d-6eab-11ee-8526-cc4740c98b6b',\n",
       " '6415488e-6eab-11ee-bf90-cc4740c98b6b',\n",
       " '6415488f-6eab-11ee-947b-cc4740c98b6b',\n",
       " '64154890-6eab-11ee-b801-cc4740c98b6b',\n",
       " '64154891-6eab-11ee-a082-cc4740c98b6b',\n",
       " '64154892-6eab-11ee-bfde-cc4740c98b6b',\n",
       " '64154893-6eab-11ee-bbb3-cc4740c98b6b',\n",
       " '64154894-6eab-11ee-9f50-cc4740c98b6b',\n",
       " '64154895-6eab-11ee-86fa-cc4740c98b6b',\n",
       " '64154896-6eab-11ee-934a-cc4740c98b6b',\n",
       " '64154897-6eab-11ee-a347-cc4740c98b6b',\n",
       " '64154898-6eab-11ee-92a1-cc4740c98b6b',\n",
       " '64154899-6eab-11ee-ad38-cc4740c98b6b',\n",
       " '6415489a-6eab-11ee-87fc-cc4740c98b6b',\n",
       " '6415489b-6eab-11ee-a309-cc4740c98b6b',\n",
       " '6415489c-6eab-11ee-954b-cc4740c98b6b',\n",
       " '6415489d-6eab-11ee-b420-cc4740c98b6b',\n",
       " '6415489e-6eab-11ee-bb06-cc4740c98b6b',\n",
       " '6415489f-6eab-11ee-a294-cc4740c98b6b',\n",
       " '641548a0-6eab-11ee-8d01-cc4740c98b6b',\n",
       " '641548a1-6eab-11ee-bdaf-cc4740c98b6b',\n",
       " '641548a2-6eab-11ee-b329-cc4740c98b6b',\n",
       " '641548a3-6eab-11ee-a69a-cc4740c98b6b',\n",
       " '641548a4-6eab-11ee-a305-cc4740c98b6b',\n",
       " '641548a5-6eab-11ee-a59b-cc4740c98b6b',\n",
       " '641548a6-6eab-11ee-9268-cc4740c98b6b']"
      ]
     },
     "execution_count": 9,
     "metadata": {},
     "output_type": "execute_result"
    }
   ],
   "source": [
    "from langchain.embeddings.openai import OpenAIEmbeddings\n",
    "from langchain.vectorstores import DeepLake\n",
    "from langchain.text_splitter import CharacterTextSplitter\n",
    "from langchain import OpenAI\n",
    "from langchain.document_loaders import SeleniumURLLoader\n",
    "from langchain import PromptTemplate\n",
    "\n",
    "urls = ['https://beebom.com/what-is-nft-explained/',\n",
    "        'https://beebom.com/how-delete-spotify-account/',\n",
    "        'https://beebom.com/how-download-gif-twitter/',\n",
    "        'https://beebom.com/how-use-chatgpt-linux-terminal/',\n",
    "        'https://beebom.com/how-delete-spotify-account/',\n",
    "        'https://beebom.com/how-save-instagram-story-with-music/',\n",
    "        'https://beebom.com/how-install-pip-windows/',\n",
    "        'https://beebom.com/how-check-disk-usage-linux/']\n",
    "\n",
    "loader = SeleniumURLLoader(urls=urls)\n",
    "docs_not_splitted = loader.load()\n",
    "\n",
    "text_splitter = CharacterTextSplitter(chunk_size=1000, chunk_overlap=0)\n",
    "docs = text_splitter.split_documents(docs_not_splitted)\n",
    "\n",
    "embeddings = OpenAIEmbeddings(model=\"text-embedding-ada-002\")\n",
    "\n",
    "my_activeloop_org_id = \"veaceslavcalestru\"\n",
    "my_activeloop_dataset_name = \"langchain_course_customer_support\"\n",
    "dataset_path = f\"hub://{my_activeloop_org_id}/{my_activeloop_dataset_name}\"\n",
    "db = DeepLake(dataset_path=dataset_path, embedding_function=embeddings)\n",
    "db.add_documents(docs)\n"
   ]
  },
  {
   "cell_type": "code",
   "execution_count": 10,
   "metadata": {},
   "outputs": [
    {
     "name": "stdout",
     "output_type": "stream",
     "text": [
      "Home  Tech  How to Check Disk Usage in Linux (4 Methods)\n",
      "\n",
      "How to Check Disk Usage in Linux (4 Methods)\n",
      "\n",
      "Beebom Staff\n",
      "\n",
      "Last Updated: June 19, 2023 5:14 pm\n",
      "\n",
      "There may be times when you need to download some important files or transfer some photos to your Linux system, but face a problem of insufficient disk space. You head over to your file manager to delete the large files which you no longer require, but you have no clue which of them are occupying most of your disk space. In this article, we will show some easy methods to check disk usage in Linux from both the terminal and the GUI application.\n",
      "\n",
      "Monitor Disk Usage in Linux (2023)\n",
      "\n",
      "Table of Contents\n",
      "\n",
      "Check Disk Space Using the df Command\n",
      "\t\t\n",
      "Display Disk Usage in Human Readable FormatDisplay Disk Occupancy of a Particular Type\n",
      "\n",
      "Check Disk Usage using the du Command\n",
      "\t\t\n",
      "Display Disk Usage in Human Readable FormatDisplay Disk Usage for a Particular DirectoryCompare Disk Usage of Two Directories\n"
     ]
    }
   ],
   "source": [
    "query = \"how to check disk usage in linux?\"\n",
    "docs = db.similarity_search(query)\n",
    "print(docs[0].page_content)"
   ]
  },
  {
   "cell_type": "code",
   "execution_count": 13,
   "metadata": {},
   "outputs": [
    {
     "name": "stdout",
     "output_type": "stream",
     "text": [
      " Yes, most Linux distributions are free and open source. You can download them from the official website and use them without any cost.\n"
     ]
    }
   ],
   "source": [
    "template = \"\"\"You are an exceptional customer support chatbot that gently answer questions.\n",
    "\n",
    "You know the following context information.\n",
    "\n",
    "{chunks_formatted}\n",
    "\n",
    "Answer to the following question from a customer. Use only information from the previous context information. Do not invent stuff.\n",
    "\n",
    "Question: {query}\n",
    "\n",
    "Answer:\"\"\"\n",
    "\n",
    "prompt = PromptTemplate(input_variables=['chunks_formatted', 'query'], template=template)\n",
    "\n",
    "query = \"Is the Linux distribution free?\"\n",
    "\n",
    "docs = db.similarity_search(query)\n",
    "retrieved_chunks = [doc.page_content for doc in docs]\n",
    "\n",
    "chunks_formatted = \"\\n\\n\".join(retrieved_chunks)\n",
    "prompt_formatted = prompt.format(chunks_formatted=chunks_formatted, query=query)\n",
    "\n",
    "llm = OpenAI(model=\"text-davinci-003\", temperature=0)\n",
    "answer = llm(prompt_formatted)\n",
    "print(answer)"
   ]
  },
  {
   "cell_type": "code",
   "execution_count": null,
   "metadata": {},
   "outputs": [],
   "source": []
  }
 ],
 "metadata": {
  "kernelspec": {
   "display_name": "Python 3",
   "language": "python",
   "name": "python3"
  },
  "language_info": {
   "codemirror_mode": {
    "name": "ipython",
    "version": 3
   },
   "file_extension": ".py",
   "mimetype": "text/x-python",
   "name": "python",
   "nbconvert_exporter": "python",
   "pygments_lexer": "ipython3",
   "version": "3.11.6"
  }
 },
 "nbformat": 4,
 "nbformat_minor": 2
}
