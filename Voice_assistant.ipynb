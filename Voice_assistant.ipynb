{
 "cells": [
  {
   "cell_type": "code",
   "execution_count": 6,
   "metadata": {},
   "outputs": [],
   "source": [
    "import os\n",
    "import requests\n",
    "from bs4 import BeautifulSoup\n",
    "from langchain.embeddings.openai import OpenAIEmbeddings\n",
    "from langchain.vectorstores import DeepLake\n",
    "from langchain.text_splitter import CharacterTextSplitter\n",
    "from langchain.document_loaders import TextLoader\n",
    "import re\n",
    "\n",
    "my_activeloop_org_id = \"veaceslavcalestru\"\n",
    "my_activeloop_dataset_name = \"langchain_course_jarvis_assistant\"\n",
    "dataset_path = f\"hub://{my_activeloop_org_id}/{my_activeloop_dataset_name}\"\n",
    "\n",
    "embeddings = OpenAIEmbeddings(model=\"text-embedding-ada-002\")"
   ]
  },
  {
   "cell_type": "code",
   "execution_count": 7,
   "metadata": {},
   "outputs": [],
   "source": [
    "def get_documentation_urls():\n",
    "    # List of relative URLs for Hugging Face documentation pages, commented a lot of these because it would take too long to scrape all of them\n",
    "    return [\n",
    "\t\t    '/docs/huggingface_hub/guides/overview',\n",
    "\t\t    '/docs/huggingface_hub/guides/download',\n",
    "\t\t    '/docs/huggingface_hub/guides/upload',\n",
    "\t\t    '/docs/huggingface_hub/guides/hf_file_system',\n",
    "\t\t    '/docs/huggingface_hub/guides/repository',\n",
    "\t\t    '/docs/huggingface_hub/guides/search',\n",
    "\t\t    # You may add additional URLs here or replace all of them\n",
    "    ]\n",
    "\n",
    "def construct_full_url(base_url, relative_url):\n",
    "    # Construct the full URL by appending the relative URL to the base URL\n",
    "    return base_url + relative_url"
   ]
  },
  {
   "cell_type": "code",
   "execution_count": 9,
   "metadata": {},
   "outputs": [],
   "source": [
    "\n",
    "def scrape_page_content(url):\n",
    "    # Send a GET request to the URL and parse the HTML response using BeautifulSoup\n",
    "    response = requests.get(url)\n",
    "    soup = BeautifulSoup(response.text, 'html.parser')\n",
    "    # Extract the desired content from the page (in this case, the body text)\n",
    "    text=soup.body.text.strip()\n",
    "    # Remove non-ASCII characters\n",
    "    text = re.sub(r'[\\x00-\\x08\\x0b-\\x0c\\x0e-\\x1f\\x7f-\\xff]', '', text)\n",
    "    # Remove extra whitespace and newlines\n",
    "    text = re.sub(r'\\s+', ' ', text)\n",
    "    return text.strip()\n",
    "\n",
    "def scrape_all_content(base_url, relative_urls, filename):\n",
    "    # Loop through the list of URLs, scrape content and add it to the content list\n",
    "    content = []\n",
    "    for relative_url in relative_urls:\n",
    "        full_url = construct_full_url(base_url, relative_url)\n",
    "        scraped_content = scrape_page_content(full_url)\n",
    "        content.append(scraped_content.rstrip('\\n'))\n",
    "\n",
    "    # Write the scraped content to a file\n",
    "    with open(filename, 'w', encoding='utf-8') as file:\n",
    "        for item in content:\n",
    "            file.write(\"%s\\n\" % item)\n",
    "    \n",
    "    return content"
   ]
  },
  {
   "cell_type": "code",
   "execution_count": 10,
   "metadata": {},
   "outputs": [],
   "source": [
    "def load_docs(root_dir, filename):\n",
    "    docs = []\n",
    "    try:\n",
    "        loader = TextLoader(os.path.join(root_dir, filename), encoding='utf-8')\n",
    "        docs.extend(loader.load_and_split())\n",
    "    except Exception as e:\n",
    "        pass\n",
    "    return docs\n",
    "\n",
    "def split_docs(docs):\n",
    "    text_splitter = CharacterTextSplitter(chunk_size=1000, chunk_overlap=0)\n",
    "    return text_splitter.split_documents(docs)"
   ]
  },
  {
   "cell_type": "code",
   "execution_count": 11,
   "metadata": {},
   "outputs": [
    {
     "name": "stdout",
     "output_type": "stream",
     "text": [
      "Your Deep Lake dataset has been successfully created!\n",
      "The dataset is private so make sure you are logged in!\n"
     ]
    },
    {
     "name": "stderr",
     "output_type": "stream",
     "text": [
      "/"
     ]
    },
    {
     "name": "stdout",
     "output_type": "stream",
     "text": [
      "Dataset(path='hub://veaceslavcalestru/langchain_course_jarvis_assistant', tensors=['embedding', 'id', 'metadata', 'text'])\n",
      "\n",
      "  tensor      htype      shape      dtype  compression\n",
      "  -------    -------    -------    -------  ------- \n",
      " embedding  embedding  (21, 1536)  float32   None   \n",
      "    id        text      (21, 1)      str     None   \n",
      " metadata     json      (21, 1)      str     None   \n",
      "   text       text      (21, 1)      str     None   \n"
     ]
    },
    {
     "name": "stderr",
     "output_type": "stream",
     "text": [
      " \r"
     ]
    }
   ],
   "source": [
    "def main():\n",
    "    base_url = \"https://huggingface.co\"\n",
    "    filename = \"content.txt\"\n",
    "    root_dir = './'\n",
    "    relative_urls = get_documentation_urls()\n",
    "    content = scrape_all_content(base_url, relative_urls, filename)\n",
    "    docs = load_docs(root_dir, filename)\n",
    "    texts = split_docs(docs)\n",
    "    db = DeepLake(dataset_path=dataset_path, embedding_function=embeddings)\n",
    "    db.add_documents(texts)\n",
    "    os.remove(filename)\n",
    "\n",
    "if __name__ == \"__main__\":\n",
    "    main()"
   ]
  },
  {
   "cell_type": "code",
   "execution_count": 12,
   "metadata": {},
   "outputs": [],
   "source": [
    "import os\n",
    "import openai\n",
    "import streamlit as st\n",
    "from audio_recorder_streamlit import audio_recorder\n",
    "from elevenlabs import generate\n",
    "from langchain.chains import RetrievalQA\n",
    "from langchain.chat_models import ChatOpenAI\n",
    "from langchain.embeddings.openai import OpenAIEmbeddings\n",
    "from langchain.vectorstores import DeepLake\n",
    "from streamlit_chat import message\n",
    "\n",
    "# Constants\n",
    "TEMP_AUDIO_PATH = \"temp_audio.wav\"\n",
    "AUDIO_FORMAT = \"audio/wav\"\n",
    "\n",
    "def load_embeddings_and_database(active_loop_data_set_path):\n",
    "    embeddings = OpenAIEmbeddings()\n",
    "    db = DeepLake(dataset_path=active_loop_data_set_path, read_only=True, embedding_function=embeddings)\n",
    "    return db\n",
    "\n",
    "def transcribe_audio(audio_file_path, openai_key):\n",
    "    openai.api_key = openai_key\n",
    "    try:\n",
    "        with open(audio_file_path, \"rb\") as audio_file:\n",
    "            response = openai.Audio.transcribe(\"whisper-1\", audio_file)\n",
    "        return response['text']\n",
    "    except Exception as e:\n",
    "        print(f\"Error calling whisper API: {str(e)}\")\n",
    "        return None\n",
    "    \n",
    "# Record audio using audio_recorder and transcribe using transcribe_audio\n",
    "def record_and_transcribe_audio():\n",
    "    audio_bytes = audio_recorder()\n",
    "    transcription = None\n",
    "    if audio_bytes:\n",
    "        st.audio(audio_bytes, format=AUDIO_FORMAT)\n",
    "\n",
    "        with open(TEMP_AUDIO_PATH, \"wb\") as f:\n",
    "            f.write(audio_bytes)\n",
    "\n",
    "        if st.button(\"Transcribe\"):\n",
    "            transcription = transcribe_audio(TEMP_AUDIO_PATH, openai.api_key)\n",
    "            os.remove(TEMP_AUDIO_PATH)\n",
    "            display_transcription(transcription)\n",
    "\n",
    "    return transcription\n",
    "\n",
    "# Display the transcription of the audio on the app\n",
    "def display_transcription(transcription):\n",
    "    if transcription:\n",
    "        st.write(f\"Transcription: {transcription}\")\n",
    "        with open(\"audio_transcription.txt\", \"w+\") as f:\n",
    "            f.write(transcription)\n",
    "    else:\n",
    "        st.write(\"Error transcribing audio.\")\n",
    "\n",
    "# Get user input from Streamlit text input field\n",
    "def get_user_input(transcription):\n",
    "    return st.text_input(\"\", value=transcription if transcription else \"\", key=\"input\")"
   ]
  },
  {
   "cell_type": "code",
   "execution_count": 13,
   "metadata": {},
   "outputs": [],
   "source": [
    "# Search the database for a response based on the user's query\n",
    "def search_db(user_input, db):\n",
    "    print(user_input)\n",
    "    retriever = db.as_retriever()\n",
    "    retriever.search_kwargs['distance_metric'] = 'cos'\n",
    "    retriever.search_kwargs['fetch_k'] = 100\n",
    "    retriever.search_kwargs['maximal_marginal_relevance'] = True\n",
    "    retriever.search_kwargs['k'] = 4\n",
    "    model = ChatOpenAI(model_name='gpt-3.5-turbo')\n",
    "    qa = RetrievalQA.from_llm(model, retriever=retriever, return_source_documents=True)\n",
    "    return qa({'query': user_input})\n",
    "\n",
    "def display_conversation(history):\n",
    "    for i in range(len(history[\"generated\"])):\n",
    "        message(history[\"past\"][i], is_user=True, key=str(i) + \"_user\")\n",
    "        message(history[\"generated\"][i],key=str(i))\n",
    "        #Voice using Eleven API\n",
    "        voice= \"Bella\"\n",
    "        text= history[\"generated\"][i]\n",
    "        audio = generate(text=text, voice=voice,api_key=eleven_api_key)\n",
    "        st.audio(audio, format='audio/mp3')"
   ]
  },
  {
   "cell_type": "code",
   "execution_count": null,
   "metadata": {},
   "outputs": [],
   "source": []
  }
 ],
 "metadata": {
  "kernelspec": {
   "display_name": "Python 3",
   "language": "python",
   "name": "python3"
  },
  "language_info": {
   "codemirror_mode": {
    "name": "ipython",
    "version": 3
   },
   "file_extension": ".py",
   "mimetype": "text/x-python",
   "name": "python",
   "nbconvert_exporter": "python",
   "pygments_lexer": "ipython3",
   "version": "3.11.6"
  }
 },
 "nbformat": 4,
 "nbformat_minor": 2
}
