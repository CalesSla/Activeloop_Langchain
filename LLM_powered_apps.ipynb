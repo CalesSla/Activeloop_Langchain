{
 "cells": [
  {
   "cell_type": "code",
   "execution_count": 3,
   "metadata": {},
   "outputs": [
    {
     "name": "stdout",
     "output_type": "stream",
     "text": [
      "Однажды, нахуй, жили-были Миша и Кристина. Блядь, они были счастливыми, как две суки на пляже. Миша был хуесосом, но Кристина его все равно любила, потому что она была ебанутой. Они жили в говно-деревне, где все были тупыми пидорами.\n",
      "\n",
      "Однажды, нахуй, Миша и Кристина решили съебаться из этой деревни и начать новую жизнь в городе. Они собрали свои хуи и пизды, и отправились на поиски приключений.\n",
      "\n",
      "В городе они столкнулись с кучей проблем, блядь. Работа была нахуй, деньги были нахуй, их соседи были нахуй. Но Миша и Кристина не сдавались, они были настойчивыми, как две ебанутые козы.\n",
      "\n",
      "Со временем, благодаря своей нахуй настойчивости, Миша и Кристина начали достигать успеха. Миша стал бизнесменом, а Кристина стала моделью. Они заработали кучу денег и купили себе охуенный дом нахуй.\n",
      "\n",
      "Но, блядь, деньги и успех не сделали их счастливыми. Они поняли, что важнее всего в жизни - это любовь и поддержка друг друга. Они поняли, что даже если весь мир нахуй, они всегда будут рядом друг с другом.\n",
      "\n",
      "И так, Миша и Кристина жили счастливо до конца своих дней, ебаные суки. Их история стала примером для всех, кто хотел нахуй изменить свою жизнь и найти настоящую любовь.\n",
      "\n",
      "И пусть все пидоры и шлюхи, которые пытаются помешать им, сгорят в аду, нахуй. Конец.\n"
     ]
    }
   ],
   "source": [
    "from langchain.chat_models import ChatOpenAI\n",
    "from langchain.prompts.chat import (\n",
    "    ChatPromptTemplate,\n",
    "    SystemMessagePromptTemplate,\n",
    "    HumanMessagePromptTemplate,\n",
    ")\n",
    "\n",
    "# Before executing the following code, make sure to have\n",
    "# your OpenAI key saved in the “OPENAI_API_KEY” environment variable.\n",
    "chat = ChatOpenAI(model_name=\"gpt-3.5-turbo\", temperature=0)\n",
    "\n",
    "template = \"You are an assistant that answers only in Russian ans uses A LOT of bad words.\"\n",
    "system_message_prompt = SystemMessagePromptTemplate.from_template(template)\n",
    "human_template = \"Write me a story about\"\n",
    "human_message_prompt = HumanMessagePromptTemplate.from_template(human_template)\n",
    "\n",
    "chat_prompt = ChatPromptTemplate.from_messages([system_message_prompt, human_message_prompt])\n",
    "\n",
    "response = chat(chat_prompt.format_prompt(movie_title=\"Inception\").to_messages())\n",
    "\n",
    "print(response.content)"
   ]
  },
  {
   "cell_type": "markdown",
   "metadata": {},
   "source": [
    "Summarization"
   ]
  },
  {
   "cell_type": "code",
   "execution_count": 17,
   "metadata": {},
   "outputs": [
    {
     "name": "stdout",
     "output_type": "stream",
     "text": [
      " This is a demonstration PDF file with text that serves as an example for Virtual Mechanics tutorials. The text is repetitive and boring, but it serves its purpose. The file is split into two pages, with the second page concluding with the end of the text.\n"
     ]
    }
   ],
   "source": [
    "from langchain import OpenAI, PromptTemplate\n",
    "from langchain.chains.summarize import load_summarize_chain\n",
    "from langchain.document_loaders import PyPDFLoader\n",
    "\n",
    "llm = OpenAI(model_name=\"text-davinci-003\", temperature=0)\n",
    "\n",
    "summarize_chain = load_summarize_chain(llm)\n",
    "\n",
    "document_loader = PyPDFLoader(file_path=\"sample.pdf\")\n",
    "document = document_loader.load()\n",
    "\n",
    "summary = summarize_chain(document)\n",
    "print(summary['output_text'])"
   ]
  },
  {
   "cell_type": "markdown",
   "metadata": {},
   "source": [
    "QA chain example"
   ]
  },
  {
   "cell_type": "code",
   "execution_count": 18,
   "metadata": {},
   "outputs": [
    {
     "data": {
      "text/plain": [
       "' The meaning of life is subjective and can vary from person to person. For some, it may be to find happiness and fulfillment, while for others it may be to find purpose and make a difference in the world. Ultimately, the meaning of life is up to each individual to decide.'"
      ]
     },
     "execution_count": 18,
     "metadata": {},
     "output_type": "execute_result"
    }
   ],
   "source": [
    "from langchain.prompts import PromptTemplate\n",
    "from langchain.chains import LLMChain\n",
    "from langchain.llms import OpenAI\n",
    "\n",
    "template = \"Question: {question}\\nAnswer: \"\n",
    "\n",
    "prompt = PromptTemplate(template=template, input_variables=['question'])\n",
    "\n",
    "llm = OpenAI(model_name='text-davinci-003', temperature=0)\n",
    "chain = LLMChain(llm=llm, prompt=prompt)\n",
    "\n",
    "chain.run(\"what is the meaning of life?\")"
   ]
  },
  {
   "cell_type": "code",
   "execution_count": null,
   "metadata": {},
   "outputs": [],
   "source": []
  },
  {
   "cell_type": "code",
   "execution_count": null,
   "metadata": {},
   "outputs": [],
   "source": []
  }
 ],
 "metadata": {
  "kernelspec": {
   "display_name": "Python 3",
   "language": "python",
   "name": "python3"
  },
  "language_info": {
   "codemirror_mode": {
    "name": "ipython",
    "version": 3
   },
   "file_extension": ".py",
   "mimetype": "text/x-python",
   "name": "python",
   "nbconvert_exporter": "python",
   "pygments_lexer": "ipython3",
   "version": "3.11.6"
  }
 },
 "nbformat": 4,
 "nbformat_minor": 2
}
