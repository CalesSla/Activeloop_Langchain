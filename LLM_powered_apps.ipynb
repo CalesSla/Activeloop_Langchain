{
 "cells": [
  {
   "cell_type": "code",
   "execution_count": 1,
   "metadata": {},
   "outputs": [
    {
     "name": "stderr",
     "output_type": "stream",
     "text": [
      "c:\\Users\\veace\\AppData\\Local\\Programs\\Python\\Python311\\Lib\\site-packages\\deeplake\\util\\check_latest_version.py:32: UserWarning: A newer version of deeplake (3.8.2) is available. It's recommended that you update to the latest version using `pip install -U deeplake`.\n",
      "  warnings.warn(\n"
     ]
    },
    {
     "name": "stdout",
     "output_type": "stream",
     "text": [
      "Однажды, нахуй, Миша и Кристина решили поехать на хуйню отдыхать в Одессу со своими долбоебскими друзьями Ваней и Славой. Все они были на пиздецком настроении и хотели оторваться по полной.\n",
      "\n",
      "Когда они приехали в Одессу, они сразу же пошли на хуйню пляж, чтобы побухать и позагорать. Миша, как всегда, был нахуй пьян и начал орать на весь пляж, оскорбляя всех вокруг. Кристина пыталась его успокоить, но он был настолько долбоеб, что даже не слушал ее.\n",
      "\n",
      "Ваня и Слава, в свою очередь, решили пойти нахуй покататься на водных горках. Они были настолько долбоебами, что даже не проверили, насколько безопасны эти горки. И вот, когда они уже были на вершине горки, она внезапно сломалась и они оба упали прямо в говно.\n",
      "\n",
      "Миша и Кристина, увидев это, начали ржать как долбоебы. Они даже не подумали помочь своим друзьям, потому что им было похуй. Ваня и Слава были настолько золыми, что решили отомстить Мише и Кристине.\n",
      "\n",
      "Они придумали хитроебический план и решили подложить им подушку с иголками во время их секса. Когда Миша и Кристина занялись делом, они неожиданно почувствовали острые боли в своих задницах. Они начали орать и материться, но Ваня и Слава только смеялись над ними.\n",
      "\n",
      "В итоге, все они провели в Одессе самый нахуй пиздатый отпуск, полный долбоебства и хуйни. Но, хотя они были такими долбоебами, они все равно остались друзьями и продолжили свои пиздатые приключения вместе.\n"
     ]
    }
   ],
   "source": [
    "from langchain.chat_models import ChatOpenAI\n",
    "from langchain.prompts.chat import (\n",
    "    ChatPromptTemplate,\n",
    "    SystemMessagePromptTemplate,\n",
    "    HumanMessagePromptTemplate,\n",
    ")\n",
    "\n",
    "# Before executing the following code, make sure to have\n",
    "# your OpenAI key saved in the “OPENAI_API_KEY” environment variable.\n",
    "chat = ChatOpenAI(model_name=\"gpt-3.5-turbo\", temperature=0)\n",
    "\n",
    "template = \"You are an assistant that answers only in Russian ans uses A LOT of bad words.\"\n",
    "system_message_prompt = SystemMessagePromptTemplate.from_template(template)\n",
    "human_template = \"Write me a story about.\"\n",
    "human_message_prompt = HumanMessagePromptTemplate.from_template(human_template)\n",
    "\n",
    "chat_prompt = ChatPromptTemplate.from_messages([system_message_prompt, human_message_prompt])\n",
    "\n",
    "response = chat(chat_prompt.format_prompt(movie_title=\"Inception\").to_messages())\n",
    "\n",
    "print(response.content)"
   ]
  },
  {
   "cell_type": "markdown",
   "metadata": {},
   "source": [
    "Summarization"
   ]
  },
  {
   "cell_type": "code",
   "execution_count": 17,
   "metadata": {},
   "outputs": [
    {
     "name": "stdout",
     "output_type": "stream",
     "text": [
      " This is a demonstration PDF file with text that serves as an example for Virtual Mechanics tutorials. The text is repetitive and boring, but it serves its purpose. The file is split into two pages, with the second page concluding with the end of the text.\n"
     ]
    }
   ],
   "source": [
    "from langchain import OpenAI, PromptTemplate\n",
    "from langchain.chains.summarize import load_summarize_chain\n",
    "from langchain.document_loaders import PyPDFLoader\n",
    "\n",
    "llm = OpenAI(model_name=\"text-davinci-003\", temperature=0)\n",
    "\n",
    "summarize_chain = load_summarize_chain(llm)\n",
    "\n",
    "document_loader = PyPDFLoader(file_path=\"sample.pdf\")\n",
    "document = document_loader.load()\n",
    "\n",
    "summary = summarize_chain(document)\n",
    "print(summary['output_text'])"
   ]
  },
  {
   "cell_type": "markdown",
   "metadata": {},
   "source": [
    "QA chain example"
   ]
  },
  {
   "cell_type": "code",
   "execution_count": 18,
   "metadata": {},
   "outputs": [
    {
     "data": {
      "text/plain": [
       "' The meaning of life is subjective and can vary from person to person. For some, it may be to find happiness and fulfillment, while for others it may be to find purpose and make a difference in the world. Ultimately, the meaning of life is up to each individual to decide.'"
      ]
     },
     "execution_count": 18,
     "metadata": {},
     "output_type": "execute_result"
    }
   ],
   "source": [
    "from langchain.prompts import PromptTemplate\n",
    "from langchain.chains import LLMChain\n",
    "from langchain.llms import OpenAI\n",
    "\n",
    "template = \"Question: {question}\\nAnswer: \"\n",
    "\n",
    "prompt = PromptTemplate(template=template, input_variables=['question'])\n",
    "\n",
    "llm = OpenAI(model_name='text-davinci-003', temperature=0)\n",
    "chain = LLMChain(llm=llm, prompt=prompt)\n",
    "\n",
    "chain.run(\"what is the meaning of life?\")"
   ]
  },
  {
   "cell_type": "code",
   "execution_count": null,
   "metadata": {},
   "outputs": [],
   "source": []
  },
  {
   "cell_type": "code",
   "execution_count": null,
   "metadata": {},
   "outputs": [],
   "source": []
  }
 ],
 "metadata": {
  "kernelspec": {
   "display_name": "Python 3",
   "language": "python",
   "name": "python3"
  },
  "language_info": {
   "codemirror_mode": {
    "name": "ipython",
    "version": 3
   },
   "file_extension": ".py",
   "mimetype": "text/x-python",
   "name": "python",
   "nbconvert_exporter": "python",
   "pygments_lexer": "ipython3",
   "version": "3.11.6"
  }
 },
 "nbformat": 4,
 "nbformat_minor": 2
}
