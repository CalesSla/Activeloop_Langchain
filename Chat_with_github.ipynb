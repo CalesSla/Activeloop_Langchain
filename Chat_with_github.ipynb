{
 "cells": [
  {
   "cell_type": "code",
   "execution_count": null,
   "metadata": {},
   "outputs": [],
   "source": [
    "import os\n",
    "from langchain.document_loaders import TextLoader\n",
    "\n",
    "root_dir = \"./path/to/cloned/repository\"\n",
    "\n",
    "docs = []\n",
    "file_extensions = []\n",
    "\n",
    "for dirpath, dirnames, filenames in os.walk(root_dir):\n",
    "    for file in filenames:\n",
    "        file_path = os.path.join(dirpath, file)\n",
    "        if file_extensions and os.path.splitext(file)[1] not in  file_extensions:\n",
    "            continue\n",
    "\n",
    "    loader = TextLoader(file_path, encoding = 'utf-8')\n",
    "    docs.extend(loader.load_and_split())\n",
    "\n",
    "\n",
    "from langchain.text_splitter import CharacterTextSplitter\n",
    "\n",
    "text_splitter = CharacterTextSplitter(chunk_size=1000, chunk_overlap=0)\n",
    "splitted_text = text_splitter.split_documents(docs)\n",
    "\n",
    "from langchain.embeddings.openai import OpenAIEmbeddings\n",
    "from langchain.vectorstores import DeepLake\n",
    "\n",
    "embeddings = OpenAIEmbeddings(model = 'text-embedding-ada-002')\n",
    "\n",
    "user = \"veaceslavcalestru\"\n",
    "dataset = 'langchain_course_chat_with_gh'\n",
    "dataset_path = f\"hub://{user}/{dataset}\"\n",
    "\n",
    "db = DeepLake(dataset_path=dataset_path, embedding_function=embeddings)\n",
    "db.add_documents(splitted_text)\n",
    "\n",
    "retriever = db.as_retriever()\n",
    "\n",
    "retriever.search_kwargs['distance_metric'] = 'cos'\n",
    "retriever.search_kwargs['fetch_k'] = 100\n",
    "retriever.search_kwargs['maximal_marginal_relevance'] = True\n",
    "retriever.search_kwargs['k'] = 10\n",
    "\n",
    "model = ChatOpenAI()\n",
    "\n",
    "qa = RetrievalQA.from_llm(model, retriever=retriever)\n",
    "\n",
    "qa.run(\"What is the repository's name?\")"
   ]
  }
 ],
 "metadata": {
  "language_info": {
   "name": "python"
  }
 },
 "nbformat": 4,
 "nbformat_minor": 2
}
