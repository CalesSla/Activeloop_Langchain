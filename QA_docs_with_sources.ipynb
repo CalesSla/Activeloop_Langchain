{
 "cells": [
  {
   "cell_type": "code",
   "execution_count": 1,
   "metadata": {},
   "outputs": [
    {
     "name": "stderr",
     "output_type": "stream",
     "text": [
      "c:\\Users\\veace\\AppData\\Local\\Programs\\Python\\Python311\\Lib\\site-packages\\deeplake\\util\\check_latest_version.py:32: UserWarning: A newer version of deeplake (3.8.2) is available. It's recommended that you update to the latest version using `pip install -U deeplake`.\n",
      "  warnings.warn(\n"
     ]
    },
    {
     "name": "stdout",
     "output_type": "stream",
     "text": [
      "Your Deep Lake dataset has been successfully created!\n",
      "The dataset is private so make sure you are logged in!\n"
     ]
    },
    {
     "name": "stderr",
     "output_type": "stream",
     "text": []
    }
   ],
   "source": [
    "import requests\n",
    "from newspaper import Article\n",
    "import time\n",
    "\n",
    "headers = {\n",
    "    'User-Agent': 'Mozilla/5.0 (Windows NT 10.0; Win64; x64) AppleWebKit/537.36 (KHTML, like Gecko) Chrome/89.0.4389.82 Safari/537.36'\n",
    "}\n",
    "\n",
    "article_urls = [\n",
    "    \"https://www.artificialintelligence-news.com/2023/05/16/openai-ceo-ai-regulation-is-essential/\",\n",
    "    \"https://www.artificialintelligence-news.com/2023/05/15/jay-migliaccio-ibm-watson-on-leveraging-ai-to-improve-productivity/\",\n",
    "    \"https://www.artificialintelligence-news.com/2023/05/15/iurii-milovanov-softserve-how-ai-ml-is-helping-boost-innovation-and-personalisation/\",\n",
    "    \"https://www.artificialintelligence-news.com/2023/05/11/ai-and-big-data-expo-north-america-begins-in-less-than-one-week/\",\n",
    "    \"https://www.artificialintelligence-news.com/2023/05/02/ai-godfather-warns-dangers-and-quits-google/\",\n",
    "    \"https://www.artificialintelligence-news.com/2023/04/28/palantir-demos-how-ai-can-used-military/\"\n",
    "]\n",
    "\n",
    "session = requests.Session()\n",
    "pages_content = []\n",
    "\n",
    "for url in article_urls:\n",
    "    try:\n",
    "        time.sleep(2)\n",
    "        response = session.get(url, headers=headers, timeout=10)\n",
    "\n",
    "        if response.status_code == 200:\n",
    "            article = Article(url)\n",
    "            article.download()\n",
    "            article.parse()\n",
    "            pages_content.append({'url': url, 'text': article.text})\n",
    "        else:\n",
    "            print(f\"Failed to fetch article at {url}\")\n",
    "    \n",
    "    except Exception as e:\n",
    "        print(f\"Error occurred while fetching article at {url}: {e}\")\n",
    "\n",
    "from langchain.embeddings.openai import OpenAIEmbeddings\n",
    "from langchain.vectorstores import DeepLake\n",
    "\n",
    "embeddings = OpenAIEmbeddings(model='text-embedding-ada-002')\n",
    "\n",
    "user = \"veaceslavcalestru\"\n",
    "dataset = \"langchain_course_qabot_with_source\"\n",
    "dataset_path = f\"hub://{user}/{dataset}\"\n",
    "\n",
    "db = DeepLake(dataset_path=dataset_path, embedding_function=embeddings)"
   ]
  },
  {
   "cell_type": "code",
   "execution_count": 3,
   "metadata": {},
   "outputs": [
    {
     "name": "stderr",
     "output_type": "stream",
     "text": [
      "|"
     ]
    },
    {
     "name": "stdout",
     "output_type": "stream",
     "text": [
      "Dataset(path='hub://veaceslavcalestru/langchain_course_qabot_with_source', tensors=['embedding', 'id', 'metadata', 'text'])\n",
      "\n",
      "  tensor      htype      shape      dtype  compression\n",
      "  -------    -------    -------    -------  ------- \n",
      " embedding  embedding  (49, 1536)  float32   None   \n",
      "    id        text      (49, 1)      str     None   \n",
      " metadata     json      (49, 1)      str     None   \n",
      "   text       text      (49, 1)      str     None   \n"
     ]
    },
    {
     "name": "stderr",
     "output_type": "stream",
     "text": [
      " \r"
     ]
    },
    {
     "data": {
      "text/plain": [
       "['f4449547-728e-11ee-b60b-cc4740c98b6b',\n",
       " 'f4449548-728e-11ee-98a7-cc4740c98b6b',\n",
       " 'f4449549-728e-11ee-b082-cc4740c98b6b',\n",
       " 'f444954a-728e-11ee-b8f9-cc4740c98b6b',\n",
       " 'f444954b-728e-11ee-9aea-cc4740c98b6b',\n",
       " 'f444954c-728e-11ee-8297-cc4740c98b6b',\n",
       " 'f444954d-728e-11ee-9092-cc4740c98b6b',\n",
       " 'f444954e-728e-11ee-bdca-cc4740c98b6b',\n",
       " 'f444954f-728e-11ee-a0b8-cc4740c98b6b',\n",
       " 'f4449550-728e-11ee-9f19-cc4740c98b6b',\n",
       " 'f4449551-728e-11ee-99ea-cc4740c98b6b',\n",
       " 'f4449552-728e-11ee-bac4-cc4740c98b6b',\n",
       " 'f4449553-728e-11ee-b229-cc4740c98b6b',\n",
       " 'f4449554-728e-11ee-b51c-cc4740c98b6b',\n",
       " 'f4449555-728e-11ee-9369-cc4740c98b6b',\n",
       " 'f4449556-728e-11ee-bdf0-cc4740c98b6b',\n",
       " 'f4449557-728e-11ee-9e80-cc4740c98b6b',\n",
       " 'f4449558-728e-11ee-96ea-cc4740c98b6b',\n",
       " 'f4449559-728e-11ee-a556-cc4740c98b6b',\n",
       " 'f444955a-728e-11ee-b910-cc4740c98b6b',\n",
       " 'f444955b-728e-11ee-ba1e-cc4740c98b6b',\n",
       " 'f444955c-728e-11ee-8dfa-cc4740c98b6b',\n",
       " 'f444955d-728e-11ee-a04c-cc4740c98b6b',\n",
       " 'f444955e-728e-11ee-88e9-cc4740c98b6b',\n",
       " 'f444955f-728e-11ee-9209-cc4740c98b6b',\n",
       " 'f4449560-728e-11ee-88f1-cc4740c98b6b',\n",
       " 'f4449561-728e-11ee-b05f-cc4740c98b6b',\n",
       " 'f4449562-728e-11ee-8611-cc4740c98b6b',\n",
       " 'f4449563-728e-11ee-a793-cc4740c98b6b',\n",
       " 'f4449564-728e-11ee-b329-cc4740c98b6b',\n",
       " 'f4449565-728e-11ee-9008-cc4740c98b6b',\n",
       " 'f4449566-728e-11ee-bf2f-cc4740c98b6b',\n",
       " 'f4449567-728e-11ee-ba39-cc4740c98b6b',\n",
       " 'f4449568-728e-11ee-a215-cc4740c98b6b',\n",
       " 'f4449569-728e-11ee-bee5-cc4740c98b6b',\n",
       " 'f444956a-728e-11ee-ad21-cc4740c98b6b',\n",
       " 'f444956b-728e-11ee-b3da-cc4740c98b6b',\n",
       " 'f444956c-728e-11ee-a685-cc4740c98b6b',\n",
       " 'f444956d-728e-11ee-b9bd-cc4740c98b6b',\n",
       " 'f444956e-728e-11ee-8967-cc4740c98b6b',\n",
       " 'f444956f-728e-11ee-93d9-cc4740c98b6b',\n",
       " 'f4449570-728e-11ee-8652-cc4740c98b6b',\n",
       " 'f4449571-728e-11ee-aeb5-cc4740c98b6b',\n",
       " 'f4449572-728e-11ee-84b8-cc4740c98b6b',\n",
       " 'f4449573-728e-11ee-b986-cc4740c98b6b',\n",
       " 'f4449574-728e-11ee-b66e-cc4740c98b6b',\n",
       " 'f4449575-728e-11ee-abc6-cc4740c98b6b',\n",
       " 'f4449576-728e-11ee-9521-cc4740c98b6b',\n",
       " 'f4449577-728e-11ee-9e37-cc4740c98b6b']"
      ]
     },
     "execution_count": 3,
     "metadata": {},
     "output_type": "execute_result"
    }
   ],
   "source": [
    "from langchain.text_splitter import RecursiveCharacterTextSplitter\n",
    "\n",
    "text_splitter = RecursiveCharacterTextSplitter(chunk_size=1000, chunk_overlap=100)\n",
    "\n",
    "all_texts, all_metadatas = [], []\n",
    "for d in pages_content:\n",
    "    chunks = text_splitter.split_text(d['text'])\n",
    "    for chunk in chunks:\n",
    "        all_texts.append(chunk)\n",
    "        all_metadatas.append({'source': d['url']})\n",
    "\n",
    "db.add_texts(all_texts, all_metadatas)"
   ]
  },
  {
   "cell_type": "code",
   "execution_count": 5,
   "metadata": {},
   "outputs": [
    {
     "name": "stdout",
     "output_type": "stream",
     "text": [
      "Response:\n",
      " Geoffrey Hinton believes that the rapid development of generative AI products is \"racing towards danger\" and that false text, images, and videos created by AI could lead to a situation where average people \"would not be able to know what is true anymore.\" He also expressed concerns about the impact of AI on the job market, as machines could eventually replace roles such as paralegals, personal assistants, and translators.\n",
      "\n",
      "Sources:\n",
      "- https://www.artificialintelligence-news.com/2023/05/02/ai-godfather-warns-dangers-and-quits-google/\n"
     ]
    }
   ],
   "source": [
    "from langchain.chains import RetrievalQAWithSourcesChain\n",
    "from langchain import OpenAI\n",
    "\n",
    "llm = OpenAI(model_name='text-davinci-003', temperature=0)\n",
    "\n",
    "chain = RetrievalQAWithSourcesChain.from_chain_type(llm=llm,\n",
    "                                                    chain_type='stuff',\n",
    "                                                    retriever=db.as_retriever())\n",
    "\n",
    "d_response = chain({'question': \"What does Geoffrey Hinton think about recent trends in AI?\"})\n",
    "\n",
    "print(\"Response:\")\n",
    "print(d_response['answer'])\n",
    "print(\"Sources:\")\n",
    "for source in d_response['sources'].split(', '):S\n",
    "    print(\"- \" + source)"
   ]
  },
  {
   "cell_type": "code",
   "execution_count": null,
   "metadata": {},
   "outputs": [],
   "source": []
  }
 ],
 "metadata": {
  "kernelspec": {
   "display_name": "Python 3",
   "language": "python",
   "name": "python3"
  },
  "language_info": {
   "codemirror_mode": {
    "name": "ipython",
    "version": 3
   },
   "file_extension": ".py",
   "mimetype": "text/x-python",
   "name": "python",
   "nbconvert_exporter": "python",
   "pygments_lexer": "ipython3",
   "version": "3.11.6"
  }
 },
 "nbformat": 4,
 "nbformat_minor": 2
}
