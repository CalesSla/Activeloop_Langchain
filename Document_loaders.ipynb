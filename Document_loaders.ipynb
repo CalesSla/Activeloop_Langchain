{
 "cells": [
  {
   "cell_type": "code",
   "execution_count": 2,
   "metadata": {},
   "outputs": [],
   "source": [
    "# Text loader\n",
    "from langchain.document_loaders import TextLoader\n",
    "\n",
    "loader = TextLoader('my_file.txt')\n",
    "documents = loader.load()"
   ]
  },
  {
   "cell_type": "code",
   "execution_count": 7,
   "metadata": {},
   "outputs": [
    {
     "name": "stdout",
     "output_type": "stream",
     "text": [
      "page_content='PART B.  \\n \\nQuestion 1.  \\na) \\ni. {-1, 0}  \\nii. {1, 4, 7, 10}  \\n \\nb) \\ni. If |A| = |B| = n and |A ∩ B| = 2 then:  \\n|A U B| = |A| + |B| - |A ∩ B| =  \\n= n + n – 2 = 2n - 2 \\nii. |P(AUB)|  = 2|AUB| = 22n-2 \\n \\nc) \\ni. (A-B) ∩ C = (C -B) ∩ A  \\nI will apply transformations to the left side of the equation:  \\n(A ∩ ¬B) ∩ C = (C -B) ∩ A  \\nA ∩ ¬B ∩ C = (C -B) ∩ A             - associativity  \\nC ∩ ¬B ∩ A = (C -B) ∩ A             - commutativity  \\n(C-B) ∩ A = (C -B) ∩ A  \\nso the equality is True  \\nꝊ \\nii. (A-B) U C = (C -B) U A  \\nThe equality is False , since we cannot apply transformations on either the left or the \\nright side and get equality.  \\nExample:  \\n(A∩¬B) U C = (C -B) U A  \\nC U (A ∩ ¬B) = (C -B) U A                        - commutativity  \\n(C U A) ∩ (C U ¬B) = (C -B) U A              - distributivity  \\nThere are no further steps we could apply so the equality is False  \\n \\niii. (A – C) ∩ (C – B) = Ꝋ \\n(A ∩ ¬C) ∩ (C ∩ ¬B) = Ꝋ \\nA ∩ ¬C ∩ C ∩ ¬B = Ꝋ                  - associativity  \\n¬C ∩ C = Ꝋ \\nSince we have ¬C ∩ C which is the inverse law and results in an empty set, and aside  \\nfrom it all other intersections with the empty set also result in an empty set we can \\nconclude that the equation is True .' metadata={'source': 'PARTB.pdf', 'page': 0}\n"
     ]
    }
   ],
   "source": [
    "# PDF loader\n",
    "from langchain.document_loaders import PyPDFLoader\n",
    "\n",
    "loader = PyPDFLoader(\"PARTB.pdf\")\n",
    "pages = loader.load_and_split()\n",
    "\n",
    "print(pages[0])"
   ]
  },
  {
   "cell_type": "code",
   "execution_count": 8,
   "metadata": {},
   "outputs": [
    {
     "name": "stderr",
     "output_type": "stream",
     "text": [
      "[nltk_data] Downloading package punkt to\n",
      "[nltk_data]     C:\\Users\\veace\\AppData\\Roaming\\nltk_data...\n",
      "[nltk_data]   Unzipping tokenizers\\punkt.zip.\n",
      "[nltk_data] Downloading package averaged_perceptron_tagger to\n",
      "[nltk_data]     C:\\Users\\veace\\AppData\\Roaming\\nltk_data...\n",
      "[nltk_data]   Unzipping taggers\\averaged_perceptron_tagger.zip.\n"
     ]
    },
    {
     "name": "stdout",
     "output_type": "stream",
     "text": [
      "page_content=\"NaN / NaN\\n\\nNaN / NaN\\n\\nSkip navigation\\n\\nSearch\\n\\nSearch with your voice\\n\\nOPENASSISTANT TAKES ON CHATGPT!\\n\\nSearch\\n\\nInfo\\n\\nShopping\\n\\nWatch later\\n\\nShare\\n\\nCopy link\\n\\nTap to unmute\\n\\nPlaying at 2x speed\\n\\nIf playback doesn't begin shortly, try restarting your device.\\n\\nUp next\\n\\nLiveUpcoming\\n\\nPlay Now\\n\\nYou're signed out\\n\\nVideos you watch may be added to the TV's watch history and influence TV recommendations. To avoid this, cancel and sign in to YouTube on your computer.\\n\\nMachine Learning Street Talk\\n\\nSubscribe\\n\\nSubscribed\\n\\nShare\\n\\nAn error occurred while retrieving sharing information. Please try again later.\\n\\n2:19\\n\\n2:19 / 59:51\\n\\nWatch full video\\n\\n•\\n\\nDiscussing Open Assistant and Fine-tuning Language Models\\n\\nScroll for details\\n\\nChapters\\n\\nDiscussing Open Assistant and Fine-tuning Language Models\\n    Discussing Open Assistant and Fine-tuning Language Models\\n    0:00\\n\\nDiscussing Open Assistant and Fine-tuning Language Models\\n\\n0:00\\n\\nOpen Assistant and Data Collection\\n    Open Assistant and Data Collection\\n    16:00\\n\\nOpen Assistant and Data Collection\\n\\n16:00\\n\\nData Collection and User Preferences\\n    Data Collection and User Preferences\\n    32:00\\n\\nData Collection and User Preferences\\n\\n32:00\\n\\nAddressing Criticisms and Ethical Considerations\\n    Addressing Criticisms and Ethical Considerations\\n    38:00\\n\\nAddressing Criticisms and Ethical Considerations\\n\\n38:00\\n\\nEthical Guidelines and Open AI Research\\n    Ethical Guidelines and Open AI Research\\n    48:00\\n\\nEthical Guidelines and Open AI Research\\n\\n48:00\\n\\nSync to video time\\n\\nDescription\\n\\nMachine Learning Street Talk\\n\\nPatreon:\\n\\n/\\xa0mlst\\n\\nDiscord:\\n\\n/\\xa0discord\\n\\nTwitter:\\n\\n/\\xa0mlstreettalk\\n\\nIn this eye-opening interview, we dive deep into the world of Open Assistant, an ambitious project aiming to create a truly open-source AI language model. Our guest reveals the behind-the-scenes process of developing this revolutionary technology, addressing the critical role of community involvement and the importance of a diverse dataset. They also tackle the controversial topic of AI ethics, shedding light on the current state of the field and the necessity for public accountability.\\n\\nJoin us as we explore the inner workings of fine-tuned language models like LAMA and discuss how human data plays a crucial role in the development of intelligent AI systems. Our guest shares their experience of working on the Open Assistant project and the challenges they faced in creating a platform that allows people to contribute to the data set.\\n\\nWe also delve into the issue of privacy, discussing the terms of service governing data usage in the project, and how the team is working to improve transparency and user control over their data. The conversation takes a critical turn as our guest addresses the criticisms and ethical considerations surrounding the evaluation and user preference study of their chatbot, comparing it to chat GPT.\\n\\nFinally, we explore the future of the ML News channel and the Open Assistant project, touching on the potential impact of AI on society and the need for ethical guidelines and principles to ensure the overall welfare of humanity. Don't miss this insightful and thought-provoking conversation that will change the way you view AI and its role in our world!\\n\\nhttps://open-assistant.io/\\n\\nDr. Yannic Kilcher:\\n\\n/\\xa0@yannickilcher\\n\\nDr. Tim Scarfe CTO XRAI:\\n\\nhttp://xrai.com\\n\\nTable of Contents:\\nDiscussing Open Assistant and Fine-tuning Language Models [\\n\\n00:00:00\\n\\n]\\nOpen Assistant and Data Collection [\\n\\n00:16:00\\n\\n]\\nData Collection and User Preferences [\\n\\n00:32:00\\n\\n]\\nAddressing Criticisms and Ethical Considerations [\\n\\n00:38:00\\n\\n]\\nEthical Guidelines and Open AI Research [\\n\\n00:48:00\\n\\nChapters\\n      \\n    \\n  \\n  \\n  \\n  \\n  \\n  \\n  View all\\n\\nTranscript\\n\\nFollow along using the transcript.\\n\\nShow transcript\\n\\nMachine Learning Street Talk\\n    \\n      88K subscribers\\n\\nVideos\\n\\nAbout\\n\\nComments\\n      228\\n\\nTop comments\\n\\nNewest first\\n\\nTranscript\\n\\nNaN / NaN\\n\\nOPENASSISTANT TAKES ON CHATGPT!\\n\\nMachine Learning Street Talk\\n\\nMachine Learning Street Talk\\n\\n<__slot-el>\\n\\nSubscribe\\n\\nSubscribed\\n\\n<__slot-el>\\n\\nI like this\\n\\nI dislike this\\n\\nShare\\n\\nShare\\n\\nDownload\\n\\nDownload\\n\\nSave\\n\\nSave\\n\\n47K views\\n\\n5 months ago\\n\\n47,583 views • Apr 19, 2023\\n\\nPatreon: \\xa0\\xa0/\\xa0mlst\\xa0\\xa0\\nDiscord: \\xa0\\xa0/\\xa0discord\\xa0\\xa0\\nTwitter: \\xa0\\xa0/\\xa0mlstreettalk\\n\\nChapters\\n      \\n    \\n  \\n  \\n  \\n  \\n  \\n  \\n  View all\\n\\nDiscussing Open Assistant and Fine-tuning Language Models\\n    Discussing Open Assistant and Fine-tuning Language Models\\n    0:00\\n\\nDiscussing Open Assistant and Fine-tuning Language Models\\n\\n0:00\\n\\nOpen Assistant and Data Collection\\n    Open Assistant and Data Collection\\n    16:00\\n\\nOpen Assistant and Data Collection\\n\\n16:00\\n\\nData Collection and User Preferences\\n    Data Collection and User Preferences\\n    32:00\\n\\nData Collection and User Preferences\\n\\n32:00\\n\\nTranscript\\n\\nFollow along using the transcript.\\n\\nShow transcript\\n\\nMachine Learning Street Talk\\n    \\n      88K subscribers\\n\\nVideos\\n\\nAbout\\n\\nOPENASSISTANT TAKES ON CHATGPT!\\n\\n47,583 views\\n\\n47K views\\n\\n<__slot-el>\\n\\nI like this\\n\\nI dislike this\\n\\nShare\\n\\nShare\\n\\nDownload\\n\\nDownload\\n\\nSave\\n\\nSave\\n\\nFuture of Generative AI [David Foster]\\n          \\n        \\n        \\n          \\n          \\n\\n  \\n    \\n  \\n    Machine Learning Street Talk\\n  \\n  \\n  \\n    Machine Learning Street Talk\\n  \\n\\n\\n\\n\\n\\n\\n    •\\n    \\n  \\n  \\n    \\n    \\n    •\\n    \\n      32K views\\n    \\n      5 months ago\" metadata={'source': 'https://www.youtube.com/watch?v=TFa539R09EQ&t=139s'}\n"
     ]
    }
   ],
   "source": [
    "# Selenium loader\n",
    "from langchain.document_loaders import SeleniumURLLoader\n",
    "\n",
    "urls = [\n",
    "    \"https://www.youtube.com/watch?v=TFa539R09EQ&t=139s\",\n",
    "    \"https://www.youtube.com/watch?v=6Zv6A_9urh4&t=112s\"\n",
    "]\n",
    "\n",
    "loader = SeleniumURLLoader(urls=urls)\n",
    "data = loader.load()\n",
    "\n",
    "print(data[0])"
   ]
  },
  {
   "cell_type": "code",
   "execution_count": null,
   "metadata": {},
   "outputs": [],
   "source": []
  },
  {
   "cell_type": "code",
   "execution_count": null,
   "metadata": {},
   "outputs": [],
   "source": []
  }
 ],
 "metadata": {
  "kernelspec": {
   "display_name": "Python 3",
   "language": "python",
   "name": "python3"
  },
  "language_info": {
   "codemirror_mode": {
    "name": "ipython",
    "version": 3
   },
   "file_extension": ".py",
   "mimetype": "text/x-python",
   "name": "python",
   "nbconvert_exporter": "python",
   "pygments_lexer": "ipython3",
   "version": "3.11.6"
  }
 },
 "nbformat": 4,
 "nbformat_minor": 2
}
