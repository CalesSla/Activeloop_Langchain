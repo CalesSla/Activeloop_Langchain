{
 "cells": [
  {
   "cell_type": "code",
   "execution_count": 8,
   "metadata": {},
   "outputs": [
    {
     "name": "stdout",
     "output_type": "stream",
     "text": [
      "\n",
      "\n",
      "\u001b[1m> Entering new  chain...\u001b[0m\n",
      "\u001b[32;1m\u001b[1;3m I need to search for the birth date of Napoleon Bonaparte.\n",
      "Action: google-search\n",
      "Action Input: \"Napoleon Bonaparte birth date\"\u001b[0m\n",
      "Observation: \u001b[36;1m\u001b[1;3mNapoleon Bonaparte (born Napoleone Bonaparte; 15 August 1769 – 5 May ... Dates. Royal assent, 11 April 1816. Commencement, 11 April 1816. Repealed, 5 ... He was the second of eight children born to Carlo Buonaparte, a lawyer descended from Tuscan nobility, and his young wife Maria-Letizia Ramolino. At the time of ... Nov 9, 2009 ... Born on the island of Corsica, Napoleon rapidly rose through the ranks of the military during the French Revolution (1789-1799). After seizing ... On 15 August 1769, Napoleon Bonaparte was born in Ajaccio, in Corsica, into a aristocratic family. He parents, Charles and Letizia already had one son, ... Napoleon was born on Corsica shortly after the island's cession to France by the Genoese. He was the fourth, and second surviving, child of Carlo Buonaparte, a ... On the 15th of August 1769 in the French-occupied capital of Corsica, Ajaccio, Napoleon was born to his father Carlo Maria di Buonaparte, and his mother, ... Napoleon Bonaparte was born on August 15, 1769. He was most notably known as a French military and political leader, who became prominent during the French ... Napoleon Bonaparte was born the 15th of August, 1769 on Corsica, just three months after the island had been defeated by the French. Jun 23, 2002 ... Napoleon Bonaparte was born at Ajaccio, Corsica, on 15 August 1769. ... Napoleon the individual argued about his origins and his date of birth. Born into a Corsican family of minor nobility, Napoleon Bonaparte rose swiftly to power after the French Revolution and led an extraordinary life thanks to ...\u001b[0m\n",
      "Thought:\u001b[32;1m\u001b[1;3m I have the birth date of Napoleon Bonaparte.\n",
      "Action: python-repl\n",
      "Action Input: f = open(\"answer.txt\", \"w\") f.write(\"Napoleon Bonaparte was born on August 15, 1769\") f.close()\u001b[0m\n",
      "Observation: \u001b[33;1m\u001b[1;3mSyntaxError('invalid syntax', ('<string>', 1, 29, 'f = open(\"answer.txt\", \"w\") f.write(\"Napoleon Bonaparte was born on August 15, 1769\") f.close()\\n', 1, 30))\u001b[0m\n",
      "Thought:\u001b[32;1m\u001b[1;3m I need to use the correct syntax to save the birth date to a file.\n",
      "Action: python-repl\n",
      "Action Input: with open(\"answer.txt\", \"w\") as f: f.write(\"Napoleon Bonaparte was born on August 15, 1769\")\u001b[0m\n",
      "Observation: \u001b[33;1m\u001b[1;3m\u001b[0m\n",
      "Thought:\u001b[32;1m\u001b[1;3m I now know the final answer.\n",
      "Final Answer: Napoleon Bonaparte was born on August 15, 1769.\u001b[0m\n",
      "\n",
      "\u001b[1m> Finished chain.\u001b[0m\n"
     ]
    },
    {
     "data": {
      "text/plain": [
       "'Napoleon Bonaparte was born on August 15, 1769.'"
      ]
     },
     "execution_count": 8,
     "metadata": {},
     "output_type": "execute_result"
    }
   ],
   "source": [
    "from langchain.llms import OpenAI\n",
    "from langchain.agents import Tool, initialize_agent, AgentType\n",
    "from langchain.utilities import GoogleSearchAPIWrapper, PythonREPL\n",
    "\n",
    "search = GoogleSearchAPIWrapper()\n",
    "python_repl = PythonREPL()\n",
    "\n",
    "llm = OpenAI(model='text-davinci-003', temperature=0)\n",
    "\n",
    "toolkit = [\n",
    "    Tool(\n",
    "        name=\"google-search\",\n",
    "        func=search.run,\n",
    "        description=\"useful for when you need to search Google to answer a question about current events\"\n",
    "    ),\n",
    "    Tool(\n",
    "        name=\"python-repl\",\n",
    "        description=\"A Python shell. Use this to execute python commands. Input should be a valid Python command. Useful for saving strings to files.\",\n",
    "        func=python_repl.run\n",
    "    )\n",
    "]\n",
    "\n",
    "agent = initialize_agent(toolkit, llm, agent=AgentType.ZERO_SHOT_REACT_DESCRIPTION, verbose=True)\n",
    "\n",
    "agent.run(\"Find the birth date of Napoleon Bonaparte and save it to a file 'answer.txt'.\")"
   ]
  },
  {
   "cell_type": "code",
   "execution_count": 9,
   "metadata": {},
   "outputs": [
    {
     "name": "stdout",
     "output_type": "stream",
     "text": [
      "\n",
      "\n",
      "\u001b[1m> Entering new  chain...\u001b[0m\n",
      "\u001b[32;1m\u001b[1;3m I need to find the date of Napoleon's death and then save it to a file.\n",
      "Action: google-search\n",
      "Action Input: \"When did Napoleon Bonaparte die?\"\u001b[0m\n",
      "Observation: \u001b[36;1m\u001b[1;3mNapoleon Bonaparte later known by his regnal name Napoleon I, was a French military commander and political leader who rose to prominence during the French ... Aug 15, 2022 ... Napoleon was only 51 when he died on the island of St. Helena, where he was out of power and exiled from his beloved France. By May 5, 1821 ... Apr 25, 2014 ... Napoleon Bonaparte died at 5.49pm on 5 May 1821, at Longwood on the island of Saint Helena. An autopsy was carried out on 6 May; ... Jan 17, 2007 ... Jan. 17, 2007&#151; -- Napoleon Bonaparte died in exile in 1821. But his story never does. His personal physician reported on his death ... Mar 3, 2010 ... Napoleon Bonaparte, the former French ruler who once ruled an empire that stretched across Europe, dies as a British prisoner on the remote ... Jan 21, 2014 ... Napoleon himself fueled suspicion, writing in his will a mere three weeks before his demise at age 51, “I die before my time, murdered by the ... Nov 9, 2009 ... In October 1815, Napoleon was exiled to the remote, British-held island of Saint Helena, in the South Atlantic Ocean. He died there on May 5, ... It was during Napoleon's year in Paris that his father died of a stomach cancer in ... Napoleon Bonaparte, as he may henceforth be called (though the family did ... Nov 14, 2022 ... On May 5, 1821 he passed away at age 51. What Killed Napoleon Bonaparte? Sep 19, 2023 ... How did Napoleon III die? At the Battle of Sedan, Napoleon III tried ... He was the third son of Napoleon I's brother Louis Bonaparte, who was ...\u001b[0m\n",
      "Thought:\u001b[32;1m\u001b[1;3m I now have the answer to the question.\n",
      "Action: python-repl\n",
      "Action Input: with open('answer.txt', 'a') as f: f.write('\\nNapoleon Bonaparte died on May 5, 1821')\u001b[0m\n",
      "Observation: \u001b[33;1m\u001b[1;3m\u001b[0m\n",
      "Thought:\u001b[32;1m\u001b[1;3m I now know the final answer.\n",
      "Final Answer: Napoleon Bonaparte died on May 5, 1821.\u001b[0m\n",
      "\n",
      "\u001b[1m> Finished chain.\u001b[0m\n"
     ]
    },
    {
     "data": {
      "text/plain": [
       "'Napoleon Bonaparte died on May 5, 1821.'"
      ]
     },
     "execution_count": 9,
     "metadata": {},
     "output_type": "execute_result"
    }
   ],
   "source": [
    "query = \"Find when Napoleon Bonaparte died and append this information \" \\\n",
    "    \"to the content of the 'answer.txt' file starting with a new line.\"\n",
    "\n",
    "agent.run(query)"
   ]
  },
  {
   "cell_type": "code",
   "execution_count": null,
   "metadata": {},
   "outputs": [],
   "source": []
  }
 ],
 "metadata": {
  "kernelspec": {
   "display_name": "Python 3",
   "language": "python",
   "name": "python3"
  },
  "language_info": {
   "codemirror_mode": {
    "name": "ipython",
    "version": 3
   },
   "file_extension": ".py",
   "mimetype": "text/x-python",
   "name": "python",
   "nbconvert_exporter": "python",
   "pygments_lexer": "ipython3",
   "version": "3.11.6"
  }
 },
 "nbformat": 4,
 "nbformat_minor": 2
}
