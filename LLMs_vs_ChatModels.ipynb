{
 "cells": [
  {
   "cell_type": "markdown",
   "metadata": {},
   "source": [
    "### LLMs\n",
    "* API is less structured compared to ChatModels\n",
    "* \n",
    "\n",
    "### ChatModels\n",
    "* Can learn from human feedback\n",
    "* Take a list of messages as input and return an AIMessage\n",
    "* More structured API"
   ]
  },
  {
   "cell_type": "code",
   "execution_count": 1,
   "metadata": {},
   "outputs": [
    {
     "name": "stdout",
     "output_type": "stream",
     "text": [
      "\n",
      "\n",
      "Wireless Audio Solutions\n"
     ]
    }
   ],
   "source": [
    "from langchain.llms import OpenAI\n",
    "from langchain.chains import LLMChain\n",
    "from langchain.prompts import PromptTemplate\n",
    "\n",
    "llm = OpenAI(model_name=\"text-davinci-003\", temperature=0)\n",
    "\n",
    "template = \"What is a good name for a company that makes {product}?\"\n",
    "prompt = PromptTemplate(input_variables=['product'], template=template)\n",
    "\n",
    "chain = LLMChain(llm=llm, prompt=prompt)\n",
    "\n",
    "print(chain.run('wireless headphones'))"
   ]
  },
  {
   "cell_type": "code",
   "execution_count": 4,
   "metadata": {},
   "outputs": [
    {
     "data": {
      "text/plain": [
       "AIMessage(content='Однажды в небольшом городке жила семья - Миша, Кристина и их двое детей, Саша и Алиса. Миша был высоким и крепким мужчиной, с густой бородой и татуировками на руках. Кристина была красивой и энергичной женщиной, всегда готовой поддержать своего мужа. Саша был старшим ребенком, смышленым и любознательным, а Алиса была маленькой и милашкой, всегда улыбающейся.\\n\\nСемья Миши и Кристины была необычной, они не боялись выражать свои эмоции и говорить то, что думали. Они были открытыми и честными друг с другом. Вместе они пережили много приключений и преодолели множество трудностей.\\n\\nОднажды, когда дети выросли немного, семья решила отправиться в путешествие. Они сели в свою старую машину и отправились в долгожданный отпуск. Первым местом, которое они посетили, был красивый городок на берегу моря.\\n\\nСемья наслаждалась солнцем, пляжем и прекрасными видами. Они купались в море, строили песчаные замки и смеялись вместе. Вечером они сидели на набережной, наблюдая за закатом и обсуждая свои мечты и планы на будущее.\\n\\nОднако, в один прекрасный день, когда семья гуляла по городу, они заметили, что Алиса исчезла. Миша и Кристина начали паниковать и искать ее повсюду. Они обратились к полиции и объявили о пропаже своей дочери.\\n\\nДни проходили, а Алисы так и не нашли. Семья была в отчаянии, их сердца были разбиты на кусочки. Они не могли представить свою жизнь без своей маленькой девочки.\\n\\nНо Миша и Кристина не сдавались. Они продолжали искать Алису, обращаясь к каждому, кто мог помочь. Они распространяли фотографии Алисы, размещали объявления и обращались к СМИ.\\n\\nИ вот, спустя несколько месяцев, один человек позвонил им и сказал, что видел девочку, похожую на Алису, в соседнем городе. Миша и Кристина сразу же отправились туда.\\n\\nКогда они увидели Алису, они не могли поверить своим глазам. Она была там, живая и здоровая. Семья объялась в объятиях, плача от счастья. Они были вместе снова.\\n\\nПозже они узнали, что Алису похитили и держали в заточении. Но благодаря упорству и любви своих родителей, она была спасена.\\n\\nСемья Миши и Кристины стала еще сильнее после этого испытания. Они ценили каждый момент, проведенный вместе, и никогда не переставали бороться за свою счастливую жизнь.\\n\\nИх история стала примером того, что любовь и семейные узы могут преодолеть любые трудности. Они были счастливы, и ничто не могло разрушить их семью.', additional_kwargs={}, example=False)"
      ]
     },
     "execution_count": 4,
     "metadata": {},
     "output_type": "execute_result"
    }
   ],
   "source": [
    "from langchain.chat_models import ChatOpenAI\n",
    "from langchain.schema import HumanMessage, SystemMessage\n",
    "\n",
    "chat = ChatOpenAI(model_name='gpt-4', temperature=0)\n",
    "\n",
    "messages = [\n",
    "    SystemMessage(content=\"You are a helpful assistant that translates English to French.\"),\n",
    "    SystemMessage(content=\"Translate the following sentence: I love programming.\")\n",
    "]\n",
    "\n",
    "chat(messages)"
   ]
  },
  {
   "cell_type": "code",
   "execution_count": 3,
   "metadata": {},
   "outputs": [
    {
     "name": "stdout",
     "output_type": "stream",
     "text": [
      "generations=[[ChatGeneration(text=\"J'aime la programmation\", generation_info=None, message=AIMessage(content=\"J'aime la programmation\", additional_kwargs={}, example=False))], [ChatGeneration(text='I love programming.', generation_info=None, message=AIMessage(content='I love programming.', additional_kwargs={}, example=False))]] llm_output={'token_usage': {'prompt_tokens': 64, 'completion_tokens': 10, 'total_tokens': 74}, 'model_name': 'gpt-4'} run=RunInfo(run_id=UUID('8a830aff-15c2-435c-989d-fa9ee979f5aa'))\n"
     ]
    }
   ],
   "source": [
    "batch_messages = [\n",
    "    [\n",
    "        SystemMessage(content=\"You are a helpful assistant that translates English to French.\"),\n",
    "        HumanMessage(content=\"Translate the following sentence: I love programming\")\n",
    "    ],\n",
    "    [\n",
    "        SystemMessage(content=\"You are a helpful assistant that translates French to English.\"),\n",
    "        HumanMessage(content=\"Translate the following sentence: J'aime la programmation.\")\n",
    "    ]\n",
    "]\n",
    "\n",
    "print(chat.generate(batch_messages))"
   ]
  },
  {
   "cell_type": "code",
   "execution_count": null,
   "metadata": {},
   "outputs": [],
   "source": []
  }
 ],
 "metadata": {
  "kernelspec": {
   "display_name": "Python 3",
   "language": "python",
   "name": "python3"
  },
  "language_info": {
   "codemirror_mode": {
    "name": "ipython",
    "version": 3
   },
   "file_extension": ".py",
   "mimetype": "text/x-python",
   "name": "python",
   "nbconvert_exporter": "python",
   "pygments_lexer": "ipython3",
   "version": "3.11.6"
  }
 },
 "nbformat": 4,
 "nbformat_minor": 2
}
