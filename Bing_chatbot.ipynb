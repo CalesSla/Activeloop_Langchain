{
 "cells": [
  {
   "cell_type": "code",
   "execution_count": 1,
   "metadata": {},
   "outputs": [
    {
     "name": "stderr",
     "output_type": "stream",
     "text": [
      "c:\\Users\\veace\\AppData\\Local\\Programs\\Python\\Python311\\Lib\\site-packages\\deeplake\\util\\check_latest_version.py:32: UserWarning: A newer version of deeplake (3.8.3) is available. It's recommended that you update to the latest version using `pip install -U deeplake`.\n",
      "  warnings.warn(\n"
     ]
    },
    {
     "data": {
      "text/plain": [
       "'\\nThe latest Fast and Furious movie is Fast & Furious 9, which is set to be released in May 2021.'"
      ]
     },
     "execution_count": 1,
     "metadata": {},
     "output_type": "execute_result"
    }
   ],
   "source": [
    "from langchain import LLMChain, PromptTemplate\n",
    "from langchain.llms import OpenAI\n",
    "\n",
    "llm = OpenAI(temperature=0)\n",
    "template = \"\"\"You are an assistant that answers the following question correctly and honestly: {question}\\m\\n\"\"\"\n",
    "\n",
    "prompt_template = PromptTemplate(input_variables=['question'], template=template)\n",
    "\n",
    "question_chain = LLMChain(llm=llm, prompt=prompt_template)\n",
    "\n",
    "question_chain.run(\"What is the latest fast and furious movie?\")"
   ]
  },
  {
   "cell_type": "code",
   "execution_count": 2,
   "metadata": {},
   "outputs": [
    {
     "name": "stdout",
     "output_type": "stream",
     "text": [
      "Fast & Furious movies in order | chronological and release order ...\n",
      "https://www.radiotimes.com/movies/fast-and-furious-order/\n",
      "Mar 22, 2023 ... Fast & Furious Presents: Hobbs & Shaw (2019); F9 (2021); Fast and Furious 10 (2023). Tokyo Drift also marks the first appearance of Han Lue, a ...\n",
      "--------------------------------------------------\n",
      "FAST X | Official Trailer 2 - YouTube\n",
      "https://www.youtube.com/watch?v=aOb15GVFZxU\n",
      "Apr 19, 2023 ... FAST X | Final Trailer · Fast and Furious 11 | 2024 | Trailer | HD | Fast X Part 2 · New Action Movies 2023 Full Length English latest HD New Best ...\n",
      "--------------------------------------------------\n",
      "Fast & Furious - Wikipedia\n",
      "https://en.wikipedia.org/wiki/Fast_%26_Furious\n",
      "Fast X was designed to be the final movie of the franchise which later evolved in becoming a two part finale. Justin Lin was brought back to direct both movies ...\n",
      "--------------------------------------------------\n",
      "Here's How to Watch Every Fast and Furious Movie In Order ...\n",
      "https://www.menshealth.com/entertainment/a36716650/fast-and-furious-movies-in-order/\n",
      "Sep 18, 2023 ... Furious 7 is the last movie in the Fast and Furious series to feature the late Paul Walker (as Brian O'Conner), and the movie sends his ...\n",
      "--------------------------------------------------\n",
      "How to Watch Fast and Furious Movies in Chronological Order - IGN\n",
      "https://www.ign.com/articles/fast-and-furious-movies-in-order\n",
      "Sep 17, 2023 ... F9 (2021) ... The series' most recent film before Fast X, once again directed by Justin Lin, pits Dom and the crew against Jakob Toretto, Dom's ...\n",
      "--------------------------------------------------\n",
      "All 11 'Fast and Furious' Movies, Ranked from Best to Worst\n",
      "https://www.menshealth.com/entertainment/g28645511/fast-and-furious-movies-ranked/\n",
      "Sep 18, 2023 ... I Watched All 22 Hours and 56 Minutes of Fast and Furious Movies To Bring You This Ranking · 11. The Fate of the Furious (2017) · 10. 2 Fast 2 ...\n",
      "--------------------------------------------------\n",
      "How many 'Fast & Furious' movies are there? Here's the list in order.\n",
      "https://www.usatoday.com/story/entertainment/movies/2022/07/29/fast-and-furious-movies-order-of-release/10062943002/\n",
      "Jul 29, 2022 ... What is the correct order of 'Fast and Furious' movies? · \"The Fast and the Furious\" (2001) · \"2 Fast 2 Furious\" (2003) · \"Fast & Furious\" (2009) ...\n",
      "--------------------------------------------------\n",
      "Fast & Furious Movies In Order: How to Watch Fast Saga ...\n",
      "https://editorial.rottentomatoes.com/guide/fast-furious-movies-in-order/\n",
      "After that, hop to franchise best Furious 7. Follow it up with The Fate of the Furious and spin-off Hobbs & Shaw and then the latest: F9 and Fast X. See below ...\n",
      "--------------------------------------------------\n",
      "Is Fast X the Last Movie of the Fast and Furious Franchise?\n",
      "https://www.comingsoon.net/guides/news/1287501-is-fast-x-the-last-movie-fast-and-furious-franchise-final-one-10\n",
      "May 11, 2023 ... Will there be another Fast and Furious movie? ... Fast X isn't the last movie of the Fast and Furious franchise, as Fast and Furious 11 is already ...\n",
      "--------------------------------------------------\n",
      "Furious Six was the last good Fast and Furious. : r/movies\n",
      "https://www.reddit.com/r/movies/comments/kkmvi3/furious_six_was_the_last_good_fast_and_furious/\n",
      "Dec 26, 2020 ... Furious Six was the last good Fast and Furious. ... I know a lot of people hate pretty much every film in the franchise that isn't the original ...\n",
      "--------------------------------------------------\n"
     ]
    }
   ],
   "source": [
    "from langchain.tools import Tool\n",
    "from langchain.utilities import GoogleSearchAPIWrapper\n",
    "\n",
    "search = GoogleSearchAPIWrapper()\n",
    "TOP_N_RESULTS = 10\n",
    "\n",
    "def top_n_results(query):\n",
    "    return search.results(query, TOP_N_RESULTS)\n",
    "\n",
    "tool = Tool(\n",
    "    name=\"Google Search\",\n",
    "    description=\"Search Google for recent results.\",\n",
    "    func=top_n_results\n",
    ")\n",
    "\n",
    "query = \"What is the latest fast and furious movie?\"\n",
    "\n",
    "results = tool.run(query)\n",
    "\n",
    "for result in results:\n",
    "    print(result['title'])\n",
    "    print(result['link'])\n",
    "    print(result['snippet'])\n",
    "    print(\"-\"*50)"
   ]
  },
  {
   "cell_type": "code",
   "execution_count": 3,
   "metadata": {},
   "outputs": [],
   "source": [
    "import newspaper\n",
    "\n",
    "pages_content = []\n",
    "\n",
    "for result in results:\n",
    "    try:\n",
    "        article = newspaper.Article(result['link'])\n",
    "        article.download()\n",
    "        article.parse()\n",
    "        if len(article.text) > 0:\n",
    "            pages_content.append({'url': result['link'], \"text\": article.text})\n",
    "    \n",
    "    except:\n",
    "        continue"
   ]
  },
  {
   "cell_type": "code",
   "execution_count": 4,
   "metadata": {},
   "outputs": [],
   "source": [
    "from langchain.text_splitter import RecursiveCharacterTextSplitter\n",
    "from langchain.docstore.document import Document\n",
    "\n",
    "text_splitter = RecursiveCharacterTextSplitter(chunk_size=4000, chunk_overlap=100)\n",
    "\n",
    "docs = []\n",
    "for d in pages_content:\n",
    "    chunks = text_splitter.split_text(d['text'])\n",
    "    for chunk in chunks:\n",
    "        new_doc = Document(page_content=chunk, metadata={'source': d['url']})\n",
    "        docs.append(new_doc)"
   ]
  },
  {
   "cell_type": "code",
   "execution_count": 5,
   "metadata": {},
   "outputs": [],
   "source": [
    "from langchain.embeddings import OpenAIEmbeddings\n",
    "\n",
    "embeddings = OpenAIEmbeddings(model=\"text-embedding-ada-002\")\n",
    "\n",
    "docs_embeddings = embeddings.embed_documents([doc.page_content for doc in docs])\n",
    "query_embedding = embeddings.embed_query(query)"
   ]
  },
  {
   "cell_type": "code",
   "execution_count": 6,
   "metadata": {},
   "outputs": [],
   "source": [
    "import numpy as np\n",
    "from sklearn.metrics.pairwise import cosine_similarity\n",
    "\n",
    "def get_top_k_indices(list_of_doc_vectors, query_vector, top_k):\n",
    "    list_of_doc_vectors = np.array(list_of_doc_vectors)\n",
    "    query_vector = np.array(query_vector)\n",
    "\n",
    "    similarities = cosine_similarity(query_vector.reshape(1, -1), list_of_doc_vectors).flatten()\n",
    "\n",
    "    sorted_indices = np.argsort(similarities[::-1])\n",
    "\n",
    "    top_k_indices = sorted_indices[:top_k]\n",
    "    \n",
    "    return top_k_indices\n",
    "\n",
    "top_k = 2\n",
    "best_indexes = get_top_k_indices(docs_embeddings, query_embedding, top_k)\n",
    "best_k_documents = [doc for i, doc in enumerate(docs) if i in best_indexes]"
   ]
  },
  {
   "cell_type": "code",
   "execution_count": 7,
   "metadata": {},
   "outputs": [
    {
     "name": "stdout",
     "output_type": "stream",
     "text": [
      "Answer: The latest Fast and Furious movie is F9: The Fast Saga (2021).\n",
      "Sources: https://www.menshealth.com/entertainment/a36716650/fast-and-furious-movies-in-order/, https://www.ign.com/articles/fast-and-furious-movies-in-order/\n"
     ]
    }
   ],
   "source": [
    "from langchain.chains.qa_with_sources import load_qa_with_sources_chain\n",
    "from langchain.llms import OpenAI\n",
    "\n",
    "chain = load_qa_with_sources_chain(OpenAI(temperature=0), chain_type=\"stuff\")\n",
    "\n",
    "response = chain({'input_documents': best_k_documents, \"question\": query}, return_only_outputs=True)\n",
    "\n",
    "response_text, response_sources = response['output_text'].split(\"SOURCES:\")\n",
    "response_text = response_text.strip()\n",
    "response_sources = response_sources.strip()\n",
    "\n",
    "print(f\"Answer: {response_text}\")\n",
    "print(f\"Sources: {response_sources}\")"
   ]
  },
  {
   "cell_type": "code",
   "execution_count": null,
   "metadata": {},
   "outputs": [],
   "source": []
  },
  {
   "cell_type": "code",
   "execution_count": null,
   "metadata": {},
   "outputs": [],
   "source": []
  },
  {
   "cell_type": "code",
   "execution_count": null,
   "metadata": {},
   "outputs": [],
   "source": []
  },
  {
   "cell_type": "code",
   "execution_count": null,
   "metadata": {},
   "outputs": [],
   "source": []
  },
  {
   "cell_type": "code",
   "execution_count": 5,
   "metadata": {},
   "outputs": [
    {
     "data": {
      "text/plain": [
       "'\\nThe tenth installment of the Fast and Furious franchise, Fast and Furious X, was released on May 22, 2020.'"
      ]
     },
     "execution_count": 5,
     "metadata": {},
     "output_type": "execute_result"
    }
   ],
   "source": [
    "from langchain import LLMChain, PromptTemplate\n",
    "from langchain.llms import OpenAI\n",
    "\n",
    "llm = OpenAI(temperature=0)\n",
    "\n",
    "template = \"\"\"You are an assistant that answers the following question correctly and honestly: {question}\\n\\n\"\"\"\n",
    "prompt_template = PromptTemplate(input_variables=[\"question\"], template=template)\n",
    "\n",
    "question_chain = LLMChain(llm=llm, prompt=prompt_template)\n",
    "\n",
    "question_chain.run(\"When was Fast and Furious X released?\")"
   ]
  },
  {
   "cell_type": "code",
   "execution_count": 7,
   "metadata": {},
   "outputs": [
    {
     "name": "stdout",
     "output_type": "stream",
     "text": [
      "Fast X - Wikipedia\n",
      "https://en.wikipedia.org/wiki/Fast_X\n",
      "Fast X premiered in Rome on May 12, 2023, and was released in the United States on May 19, by Universal Pictures. The film received mixed reviews from critics, ...\n",
      "--------------------------------------------------\n",
      "'Fast X: Part 2': Release Date, Cast, News, and More\n",
      "https://www.menshealth.com/entertainment/a43948464/fast-x-part-2-release-date-cast-news/\n",
      "Sep 18, 2023 ... Here's everything we know about the second instalment in the finale of the 'Fast & Furious' film saga, including the cast, plot, director, ...\n",
      "--------------------------------------------------\n",
      "Fast X: New Cast, Release Date & Everything We Know So Far\n",
      "https://collider.com/fast-furious-10-release-date-cast-plot-filming-details-more/\n",
      "May 17, 2023 ... The first part of Fast X is currently scheduled to be released on May 19, 2023. The previous movie, F9, had one of the most successful ...\n",
      "--------------------------------------------------\n",
      "FAST X | Final Trailer - YouTube\n",
      "https://www.youtube.com/watch?v=eoOaKN4qCKw\n",
      "May 15, 2023 ... Comments12K · THE NEW EMPIRE | Full Action Movie | Jason Statham · Fast and Furious 11 Trailer (2025) Trailer Concept · Han VS Shaw (match retour) ...\n",
      "--------------------------------------------------\n",
      "Fast and Furious 10: Release date, trailer, cast, plot & more - Dexerto\n",
      "https://www.dexerto.com/tv-movies/fast-and-furious-10-fast-x-release-date-trailer-cast-plot-2028361/\n",
      "May 15, 2023 ... Fast X will hit cinemas on May 19, 2023. The film will be directed by Louis Leterrier, who replaced original director Justin Lin in 2022. “With ...\n",
      "--------------------------------------------------\n",
      "Fast X release date, trailer and more about Fast 10\n",
      "https://www.digitalspy.com/movies/a36785219/fast-and-furious-10-11-release-date/\n",
      "May 11, 2023 ... However, that was shifted slightly to May 19, 2023, which is where the movie has stayed. On April 20, 2022, it was confirmed that filming had ...\n",
      "--------------------------------------------------\n",
      "Fast X: When can you stream the latest Fast and Furious film?\n",
      "https://www.pocket-lint.com/how-to-watch-fast-and-furious-10-fast-x-release-date-cast-news/\n",
      "Aug 17, 2023 ... Fast X release date: When will you be able to stream it? ... Fast X arrived in theatres on 19 May 2023, which was a month later than it was ...\n",
      "--------------------------------------------------\n",
      "'Fast X Part 2' Gets a Release Date: Everything We Know About the ...\n",
      "https://www.etonline.com/fast-x-part-2-gets-a-release-date-everything-we-know-about-the-future-of-the-franchise-206240\n",
      "Jun 12, 2023 ... Following the release of the first film, officially titled Fast & Furious Presents: Hobbs & Shaw, there was plenty of talk of a sequel. However, ...\n",
      "--------------------------------------------------\n",
      "Fast X (2023) - Release info - IMDb\n",
      "https://www.imdb.com/title/tt5433140/releaseinfo/\n",
      "Release Date · Belgium. May 17, 2023 · Bulgaria. May 17, 2023 · Brazil. May 17, 2023 · China. May 17, 2023 · Colombia. May 17, 2023.\n",
      "--------------------------------------------------\n",
      "ARTIST PARTNER GROUP AND UNIVERSAL PICTURES, IN ...\n",
      "https://www.universalmusic.com/artist-partner-group-and-universal-pictures-in-partnership-with-universal-music-group-unveil-track-list-for-fast-x-original-motion-picture-soundtrack/\n",
      "... Fast & Furious Saga, Fast X. Out May 19th, to coincide with the movie's global release in theaters, the 21-track list boasts a star-studded lineup of ...\n",
      "--------------------------------------------------\n",
      "Answer: Fast and Furious X was released on May 19, 2023.\n",
      "Sources: https://en.wikipedia.org/wiki/Fast_X\n"
     ]
    }
   ],
   "source": [
    "from langchain.tools import Tool\n",
    "from langchain.utilities import GoogleSearchAPIWrapper\n",
    "\n",
    "search = GoogleSearchAPIWrapper()\n",
    "TOP_N_RESULTS = 10\n",
    "\n",
    "def top_n_results(query):\n",
    "    return search.results(query, TOP_N_RESULTS)\n",
    "\n",
    "tool = Tool(\n",
    "    name = \"Google Search\",\n",
    "    description=\"Search Google for recent results.\",\n",
    "    func=top_n_results\n",
    ")\n",
    "\n",
    "query = \"When was Fast and Furious X released?\"\n",
    "\n",
    "results = tool.run(query)\n",
    "\n",
    "for result in results:\n",
    "    print(result[\"title\"])\n",
    "    print(result[\"link\"])\n",
    "    print(result[\"snippet\"])\n",
    "    print(\"-\"*50)\n",
    "\n",
    "\n",
    "import newspaper\n",
    "\n",
    "pages_content = []\n",
    "\n",
    "for result in results:\n",
    "\ttry:\n",
    "\t\tarticle = newspaper.Article(result[\"link\"])\n",
    "\t\tarticle.download()\n",
    "\t\tarticle.parse()\n",
    "\t\tif len(article.text) > 0:\n",
    "\t\t\tpages_content.append({ \"url\": result[\"link\"], \"text\": article.text })\n",
    "\texcept:\n",
    "\t\tcontinue\n",
    "\t\n",
    "\n",
    "from langchain.text_splitter import RecursiveCharacterTextSplitter\n",
    "from langchain.docstore.document import Document\n",
    "\n",
    "text_splitter = RecursiveCharacterTextSplitter(chunk_size=4000, chunk_overlap=100)\n",
    "\n",
    "docs = []\n",
    "for d in pages_content:\n",
    "\tchunks = text_splitter.split_text(d[\"text\"])\n",
    "\tfor chunk in chunks:\n",
    "\t\tnew_doc = Document(page_content=chunk, metadata={ \"source\": d[\"url\"] })\n",
    "\t\tdocs.append(new_doc)\n",
    "\t\t\n",
    "from langchain.embeddings import OpenAIEmbeddings\n",
    "\n",
    "embeddings = OpenAIEmbeddings(model=\"text-embedding-ada-002\")\n",
    "\n",
    "docs_embeddings = embeddings.embed_documents([doc.page_content for doc in docs])\n",
    "query_embedding = embeddings.embed_query(query)\n",
    "\n",
    "\n",
    "import numpy as np\n",
    "from sklearn.metrics.pairwise import cosine_similarity\n",
    "\n",
    "def get_top_k_indices(list_of_doc_vectors, query_vector, top_k):\n",
    "  # convert the lists of vectors to numpy arrays\n",
    "  list_of_doc_vectors = np.array(list_of_doc_vectors)\n",
    "  query_vector = np.array(query_vector)\n",
    "\n",
    "  # compute cosine similarities\n",
    "  similarities = cosine_similarity(query_vector.reshape(1, -1), list_of_doc_vectors).flatten()\n",
    "\n",
    "  # sort the vectors based on cosine similarity\n",
    "  sorted_indices = np.argsort(similarities)[::-1]\n",
    "\n",
    "  # retrieve the top K indices from the sorted list\n",
    "  top_k_indices = sorted_indices[:top_k]\n",
    "\n",
    "  return top_k_indices\n",
    "\n",
    "top_k = 2\n",
    "best_indexes = get_top_k_indices(docs_embeddings, query_embedding, top_k)\n",
    "best_k_documents = [doc for i, doc in enumerate(docs) if i in best_indexes]\n",
    "\n",
    "\n",
    "from langchain.chains.qa_with_sources import load_qa_with_sources_chain\n",
    "from langchain.llms import OpenAI\n",
    "\n",
    "chain = load_qa_with_sources_chain(OpenAI(temperature=0), chain_type=\"stuff\")\n",
    "\n",
    "response = chain({\"input_documents\": best_k_documents, \"question\": query}, return_only_outputs=True)\n",
    "\n",
    "response_text, response_sources = response[\"output_text\"].split(\"SOURCES:\")\n",
    "response_text = response_text.strip()\n",
    "response_sources = response_sources.strip()\n",
    "\n",
    "print(f\"Answer: {response_text}\")\n",
    "print(f\"Sources: {response_sources}\")"
   ]
  },
  {
   "cell_type": "code",
   "execution_count": null,
   "metadata": {},
   "outputs": [],
   "source": []
  }
 ],
 "metadata": {
  "kernelspec": {
   "display_name": "Python 3",
   "language": "python",
   "name": "python3"
  },
  "language_info": {
   "codemirror_mode": {
    "name": "ipython",
    "version": 3
   },
   "file_extension": ".py",
   "mimetype": "text/x-python",
   "name": "python",
   "nbconvert_exporter": "python",
   "pygments_lexer": "ipython3",
   "version": "3.11.6"
  }
 },
 "nbformat": 4,
 "nbformat_minor": 2
}
