{
 "cells": [
  {
   "cell_type": "code",
   "execution_count": 7,
   "metadata": {},
   "outputs": [
    {
     "name": "stdout",
     "output_type": "stream",
     "text": [
      "content=\"Paris is not only the capital of France, but also the most populous city in the country. It's situated in the north-central part of France, on the Seine River. The city spans an area of 105 square kilometers and has a population of over 2 million people.\\n\\nParis is renowned worldwide for its art, fashion, gastronomy, and culture. It's home to many iconic landmarks, such as the Eiffel Tower, the Louvre Museum, Notre-Dame Cathedral, the Champs-Elysées and the Arc de Triomphe. The city also hosts several world-class sporting events, like the French Open Grand Slam tennis tournament and the Tour de France cycling race.\\n\\nParis is also an important hub for education, with many internationally renowned educational institutions such as Sorbonne University. The city's influence in politics, education, entertainment, media, fashion, science and the arts all contribute to its status as one of the world's major global cities.\\n\\nMoreover, Paris is known for its cafe culture, and designer boutiques along the Rue du Faubourg Saint-Honoré. It also has a high concentration of national and international political, scientific and cultural institutions, including UNESCO.\" additional_kwargs={} example=False\n"
     ]
    }
   ],
   "source": [
    "from langchain.chat_models import ChatOpenAI\n",
    "from langchain.schema import SystemMessage, HumanMessage, AIMessage\n",
    "\n",
    "messages = [\n",
    "    SystemMessage(content=\"You are a helpful assistant.\"),\n",
    "    HumanMessage(content=\"What is the capital of France?\"),\n",
    "    AIMessage(content=\"The capital of France is Paris.\")\n",
    "]\n",
    "\n",
    "llm = ChatOpenAI(model_name='gpt-4')\n",
    "response = llm(messages)\n",
    "\n",
    "prompt = HumanMessage(content=\"I'd like to know more about the city you just mentioned.\")\n",
    "messages.append(prompt)\n",
    "\n",
    "response = llm(messages)\n",
    "print(response)"
   ]
  },
  {
   "cell_type": "code",
   "execution_count": null,
   "metadata": {},
   "outputs": [],
   "source": []
  },
  {
   "cell_type": "code",
   "execution_count": null,
   "metadata": {},
   "outputs": [],
   "source": []
  },
  {
   "cell_type": "code",
   "execution_count": null,
   "metadata": {},
   "outputs": [],
   "source": []
  }
 ],
 "metadata": {
  "kernelspec": {
   "display_name": "Python 3",
   "language": "python",
   "name": "python3"
  },
  "language_info": {
   "codemirror_mode": {
    "name": "ipython",
    "version": 3
   },
   "file_extension": ".py",
   "mimetype": "text/x-python",
   "name": "python",
   "nbconvert_exporter": "python",
   "pygments_lexer": "ipython3",
   "version": "3.11.6"
  }
 },
 "nbformat": 4,
 "nbformat_minor": 2
}
